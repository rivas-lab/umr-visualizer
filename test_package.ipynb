{
 "cells": [
  {
   "cell_type": "code",
   "execution_count": 1,
   "metadata": {},
   "outputs": [],
   "source": [
    "#### Ask Manny :\n",
    "# \n",
    "#  Question : fitted_values is passed directly, but it should be filtered for each gene separately no?? \n",
    "#\n",
    "# I m confused because beta I used is from the full model taking all genes, \n",
    "# and the fitted values are from the full model for each gene separately so I dont get the right numbers.\n",
    "\n",
    "#cprrect \n",
    "####### r_squared_j / r_squared_full is not a standard calculation.\n",
    "####### Just return r_squared_j as the proportion of variance explained, no?.  Answer: idk yet \n",
    "\n",
    "###### Maybe the problem is how we dined variance full model.\n",
    "\n",
    "# Compute the full model Rsquared per gene (using the full data for each gene) pr full model for full genes?\n",
    "# TO DO: \n",
    "# \n",
    "# run on the whole dataset for gene1 and one \n",
    "\n",
    "# APOB and LDL see screens hot and ask her to give a data for that model\n",
    "# What i need from her \n",
    "# job script and she says then adds data where she writes file tsv file for data\n",
    "\n",
    "# modify read me "
   ]
  },
  {
   "cell_type": "code",
   "execution_count": 2,
   "metadata": {},
   "outputs": [
    {
     "name": "stdout",
     "output_type": "stream",
     "text": [
      "\u001b[33mWARNING: Skipping umr-visualizer as it is not installed.\u001b[0m\u001b[33m\n",
      "\u001b[0m"
     ]
    }
   ],
   "source": [
    "!pip uninstall umr-visualizer -y\n"
   ]
  },
  {
   "cell_type": "code",
   "execution_count": 3,
   "metadata": {},
   "outputs": [],
   "source": [
    "! pip list | grep umr-visualizer"
   ]
  },
  {
   "cell_type": "code",
   "execution_count": 4,
   "metadata": {},
   "outputs": [
    {
     "name": "stdout",
     "output_type": "stream",
     "text": [
      "Obtaining file:///Users/salmazainana/umr-visualizer\n",
      "  Preparing metadata (setup.py) ... \u001b[?25ldone\n",
      "\u001b[?25hRequirement already satisfied: numpy in /opt/anaconda3/envs/umr-visualizer/lib/python3.10/site-packages (from umr-visualizer==0.1.2) (2.2.3)\n",
      "Requirement already satisfied: pandas in /opt/anaconda3/envs/umr-visualizer/lib/python3.10/site-packages (from umr-visualizer==0.1.2) (2.2.3)\n",
      "Requirement already satisfied: matplotlib in /opt/anaconda3/envs/umr-visualizer/lib/python3.10/site-packages (from umr-visualizer==0.1.2) (3.10.0)\n",
      "Requirement already satisfied: contourpy>=1.0.1 in /opt/anaconda3/envs/umr-visualizer/lib/python3.10/site-packages (from matplotlib->umr-visualizer==0.1.2) (1.3.1)\n",
      "Requirement already satisfied: cycler>=0.10 in /opt/anaconda3/envs/umr-visualizer/lib/python3.10/site-packages (from matplotlib->umr-visualizer==0.1.2) (0.12.1)\n",
      "Requirement already satisfied: fonttools>=4.22.0 in /opt/anaconda3/envs/umr-visualizer/lib/python3.10/site-packages (from matplotlib->umr-visualizer==0.1.2) (4.56.0)\n",
      "Requirement already satisfied: kiwisolver>=1.3.1 in /opt/anaconda3/envs/umr-visualizer/lib/python3.10/site-packages (from matplotlib->umr-visualizer==0.1.2) (1.4.8)\n",
      "Requirement already satisfied: packaging>=20.0 in /opt/anaconda3/envs/umr-visualizer/lib/python3.10/site-packages (from matplotlib->umr-visualizer==0.1.2) (24.2)\n",
      "Requirement already satisfied: pillow>=8 in /opt/anaconda3/envs/umr-visualizer/lib/python3.10/site-packages (from matplotlib->umr-visualizer==0.1.2) (11.1.0)\n",
      "Requirement already satisfied: pyparsing>=2.3.1 in /opt/anaconda3/envs/umr-visualizer/lib/python3.10/site-packages (from matplotlib->umr-visualizer==0.1.2) (3.2.1)\n",
      "Requirement already satisfied: python-dateutil>=2.7 in /opt/anaconda3/envs/umr-visualizer/lib/python3.10/site-packages (from matplotlib->umr-visualizer==0.1.2) (2.9.0.post0)\n",
      "Requirement already satisfied: pytz>=2020.1 in /opt/anaconda3/envs/umr-visualizer/lib/python3.10/site-packages (from pandas->umr-visualizer==0.1.2) (2025.1)\n",
      "Requirement already satisfied: tzdata>=2022.7 in /opt/anaconda3/envs/umr-visualizer/lib/python3.10/site-packages (from pandas->umr-visualizer==0.1.2) (2025.1)\n",
      "Requirement already satisfied: six>=1.5 in /opt/anaconda3/envs/umr-visualizer/lib/python3.10/site-packages (from python-dateutil>=2.7->matplotlib->umr-visualizer==0.1.2) (1.17.0)\n",
      "Installing collected packages: umr-visualizer\n",
      "\u001b[33m  DEPRECATION: Legacy editable install of umr-visualizer==0.1.2 from file:///Users/salmazainana/umr-visualizer (setup.py develop) is deprecated. pip 25.1 will enforce this behaviour change. A possible replacement is to add a pyproject.toml or enable --use-pep517, and use setuptools >= 64. If the resulting installation is not behaving as expected, try using --config-settings editable_mode=compat. Please consult the setuptools documentation for more information. Discussion can be found at https://github.com/pypa/pip/issues/11457\u001b[0m\u001b[33m\n",
      "\u001b[0m  Running setup.py develop for umr-visualizer\n",
      "Successfully installed umr-visualizer\n",
      "Requirement already satisfied: nbformat in /opt/anaconda3/envs/umr-visualizer/lib/python3.10/site-packages (5.10.4)\n",
      "Requirement already satisfied: fastjsonschema>=2.15 in /opt/anaconda3/envs/umr-visualizer/lib/python3.10/site-packages (from nbformat) (2.21.1)\n",
      "Requirement already satisfied: jsonschema>=2.6 in /opt/anaconda3/envs/umr-visualizer/lib/python3.10/site-packages (from nbformat) (4.23.0)\n",
      "Requirement already satisfied: jupyter-core!=5.0.*,>=4.12 in /opt/anaconda3/envs/umr-visualizer/lib/python3.10/site-packages (from nbformat) (5.7.2)\n",
      "Requirement already satisfied: traitlets>=5.1 in /opt/anaconda3/envs/umr-visualizer/lib/python3.10/site-packages (from nbformat) (5.14.3)\n",
      "Requirement already satisfied: attrs>=22.2.0 in /opt/anaconda3/envs/umr-visualizer/lib/python3.10/site-packages (from jsonschema>=2.6->nbformat) (25.1.0)\n",
      "Requirement already satisfied: jsonschema-specifications>=2023.03.6 in /opt/anaconda3/envs/umr-visualizer/lib/python3.10/site-packages (from jsonschema>=2.6->nbformat) (2024.10.1)\n",
      "Requirement already satisfied: referencing>=0.28.4 in /opt/anaconda3/envs/umr-visualizer/lib/python3.10/site-packages (from jsonschema>=2.6->nbformat) (0.36.2)\n",
      "Requirement already satisfied: rpds-py>=0.7.1 in /opt/anaconda3/envs/umr-visualizer/lib/python3.10/site-packages (from jsonschema>=2.6->nbformat) (0.23.0)\n",
      "Requirement already satisfied: platformdirs>=2.5 in /opt/anaconda3/envs/umr-visualizer/lib/python3.10/site-packages (from jupyter-core!=5.0.*,>=4.12->nbformat) (4.3.6)\n",
      "Requirement already satisfied: typing-extensions>=4.4.0 in /opt/anaconda3/envs/umr-visualizer/lib/python3.10/site-packages (from referencing>=0.28.4->jsonschema>=2.6->nbformat) (4.12.2)\n"
     ]
    }
   ],
   "source": [
    "! pip install -e /Users/salmazainana/umr-visualizer\n",
    "! pip install --upgrade nbformat\n",
    "\n"
   ]
  },
  {
   "cell_type": "code",
   "execution_count": 5,
   "metadata": {},
   "outputs": [
    {
     "name": "stdout",
     "output_type": "stream",
     "text": [
      "umr-visualizer            0.1.2       /Users/salmazainana/umr-visualizer\n"
     ]
    }
   ],
   "source": [
    "# Check if package installed\n",
    "! pip list | grep umr-visualizer"
   ]
  },
  {
   "cell_type": "code",
   "execution_count": 6,
   "metadata": {},
   "outputs": [
    {
     "name": "stdout",
     "output_type": "stream",
     "text": [
      "/opt/anaconda3/envs/umr-visualizer/bin/python\n"
     ]
    }
   ],
   "source": [
    "# # Even if the package is installed, sometimes Jupyter doesn’t recognize it. To fix this:\n",
    "import sys\n",
    "print(sys.executable)\n",
    "sys.path.append(\"/Users/salmazainana/umr-visualizer\")\n"
   ]
  },
  {
   "cell_type": "code",
   "execution_count": 7,
   "metadata": {},
   "outputs": [],
   "source": [
    "import umr_visualizer as uv\n",
    "import pandas as pd\n",
    "import numpy as np  \n",
    "import matplotlib.pyplot as plt\n",
    "import seaborn as sns\n"
   ]
  },
  {
   "cell_type": "markdown",
   "metadata": {},
   "source": [
    "# The dataset on the APOB gene (LDL description)"
   ]
  },
  {
   "cell_type": "markdown",
   "metadata": {},
   "source": [
    "### Load data set "
   ]
  },
  {
   "cell_type": "code",
   "execution_count": 8,
   "metadata": {},
   "outputs": [],
   "source": [
    "# file_path = \"/Users/salmazainana/Desktop/filtered_APOB_data.tsv\"\n",
    "# correct_columns = [\n",
    "#     \"locus\", \"alleles\", \"markerID\", \"gene\", \"annotation\", \"call_stats\", \"n_cases\",\n",
    "#     \"n_controls\", \"heritability\", \"saige_version\", \"inv_normalized\", \"trait_type\",\n",
    "#     \"phenocode\", \"pheno_sex\", \"coding\", \"modifier\", \"n_cases_defined\", \n",
    "#     \"n_cases_both_sexes\", \"n_cases_females\", \"n_cases_males\", \"description\", \n",
    "#     \"description_more\", \"coding_description\", \"category\", \"AC\", \"AF\", \"BETA\", \n",
    "#     \"SE\", \"AF.Cases\", \"AF.Controls\", \"Pvalue\", \"chr\", \"pos\", \"ref\", \"alt\", \n",
    "#     \"prob_0\", \"am_pathogenicity\", \"pLoF_indicator\", \"missense_indicator\"\n",
    "# ]\n",
    "\n",
    "# df = pd.read_csv(file_path, sep=\"\\t\", skiprows=1, names=correct_columns)\n",
    "# df.head()\n"
   ]
  },
  {
   "cell_type": "code",
   "execution_count": 9,
   "metadata": {},
   "outputs": [
    {
     "data": {
      "text/html": [
       "<div>\n",
       "<style scoped>\n",
       "    .dataframe tbody tr th:only-of-type {\n",
       "        vertical-align: middle;\n",
       "    }\n",
       "\n",
       "    .dataframe tbody tr th {\n",
       "        vertical-align: top;\n",
       "    }\n",
       "\n",
       "    .dataframe thead th {\n",
       "        text-align: right;\n",
       "    }\n",
       "</style>\n",
       "<table border=\"1\" class=\"dataframe\">\n",
       "  <thead>\n",
       "    <tr style=\"text-align: right;\">\n",
       "      <th></th>\n",
       "      <th>gene</th>\n",
       "      <th>BETA</th>\n",
       "      <th>SE</th>\n",
       "      <th>prob_0</th>\n",
       "      <th>am_pathogenicity</th>\n",
       "      <th>pLoF_indicator</th>\n",
       "      <th>missense_indicator</th>\n",
       "    </tr>\n",
       "  </thead>\n",
       "  <tbody>\n",
       "    <tr>\n",
       "      <th>0</th>\n",
       "      <td>APOB</td>\n",
       "      <td>0.012711</td>\n",
       "      <td>0.96865</td>\n",
       "      <td>0.042032</td>\n",
       "      <td>0.1485</td>\n",
       "      <td>0</td>\n",
       "      <td>1</td>\n",
       "    </tr>\n",
       "    <tr>\n",
       "      <th>1</th>\n",
       "      <td>APOB</td>\n",
       "      <td>1.577000</td>\n",
       "      <td>0.96861</td>\n",
       "      <td>0.023355</td>\n",
       "      <td>0.0902</td>\n",
       "      <td>0</td>\n",
       "      <td>1</td>\n",
       "    </tr>\n",
       "    <tr>\n",
       "      <th>2</th>\n",
       "      <td>APOB</td>\n",
       "      <td>-0.548010</td>\n",
       "      <td>0.96840</td>\n",
       "      <td>0.000067</td>\n",
       "      <td>0.2574</td>\n",
       "      <td>0</td>\n",
       "      <td>1</td>\n",
       "    </tr>\n",
       "    <tr>\n",
       "      <th>3</th>\n",
       "      <td>APOB</td>\n",
       "      <td>1.034900</td>\n",
       "      <td>0.96867</td>\n",
       "      <td>0.000040</td>\n",
       "      <td>NaN</td>\n",
       "      <td>0</td>\n",
       "      <td>0</td>\n",
       "    </tr>\n",
       "    <tr>\n",
       "      <th>4</th>\n",
       "      <td>APOB</td>\n",
       "      <td>-0.004753</td>\n",
       "      <td>0.14775</td>\n",
       "      <td>0.000040</td>\n",
       "      <td>0.1224</td>\n",
       "      <td>0</td>\n",
       "      <td>1</td>\n",
       "    </tr>\n",
       "  </tbody>\n",
       "</table>\n",
       "</div>"
      ],
      "text/plain": [
       "   gene      BETA       SE    prob_0  am_pathogenicity  pLoF_indicator  \\\n",
       "0  APOB  0.012711  0.96865  0.042032            0.1485               0   \n",
       "1  APOB  1.577000  0.96861  0.023355            0.0902               0   \n",
       "2  APOB -0.548010  0.96840  0.000067            0.2574               0   \n",
       "3  APOB  1.034900  0.96867  0.000040               NaN               0   \n",
       "4  APOB -0.004753  0.14775  0.000040            0.1224               0   \n",
       "\n",
       "   missense_indicator  \n",
       "0                   1  \n",
       "1                   1  \n",
       "2                   1  \n",
       "3                   0  \n",
       "4                   1  "
      ]
     },
     "execution_count": 9,
     "metadata": {},
     "output_type": "execute_result"
    }
   ],
   "source": [
    "# columns_to_keep = [\"gene\", \"BETA\", \"SE\", \"prob_0\", \"am_pathogenicity\", \"pLoF_indicator\", \"missense_indicator\"]\n",
    "\n",
    "# # Keep only these columns\n",
    "# df_filtered = df[columns_to_keep]\n",
    "# df_filtered.head()\n",
    "\n",
    "# Save the filtered DataFrame\n",
    "output_file_path = \"/Users/salmazainana/Desktop/filtered_APOB_data.tsv\"\n",
    "# df_filtered.to_csv(output_file_path, sep=\"\\t\", index=False)\n",
    "df = pd.read_csv(output_file_path, sep=\"\\t\")\n",
    "df.head()\n",
    "\n"
   ]
  },
  {
   "cell_type": "code",
   "execution_count": 10,
   "metadata": {},
   "outputs": [
    {
     "name": "stdout",
     "output_type": "stream",
     "text": [
      "Number of examples: 1067213\n"
     ]
    }
   ],
   "source": [
    "#print number of examples\n",
    "print(f\"Number of examples: {df.shape[0]}\")"
   ]
  },
  {
   "cell_type": "code",
   "execution_count": 11,
   "metadata": {},
   "outputs": [
    {
     "name": "stdout",
     "output_type": "stream",
     "text": [
      "gene                       1\n",
      "BETA                  326120\n",
      "SE                    103251\n",
      "prob_0                  2775\n",
      "am_pathogenicity        1529\n",
      "pLoF_indicator             2\n",
      "missense_indicator         2\n",
      "dtype: int64\n"
     ]
    }
   ],
   "source": [
    "print(df.nunique())"
   ]
  },
  {
   "cell_type": "code",
   "execution_count": 12,
   "metadata": {},
   "outputs": [],
   "source": [
    "\n",
    "# Check if there are NaNs in any columns \n",
    "# df.isnull().sum()\n",
    "\n"
   ]
  },
  {
   "cell_type": "code",
   "execution_count": 13,
   "metadata": {},
   "outputs": [],
   "source": [
    "# # fill the Nan Values with average of the column for prob_0 and am+pathogenicity\n",
    "# df[\"prob_0\"] = df[\"prob_0\"].fillna(df[\"prob_0\"].mean())\n",
    "# df[\"am_pathogenicity\"] = df[\"am_pathogenicity\"].fillna(df[\"am_pathogenicity\"].mean())\n",
    "# df.isnull().sum()\n",
    "\n",
    "# Drop rows with NaN values\n",
    "# df = df.dropna()\n",
    "# df.isnull().sum()\n",
    "\n",
    "\n",
    "# We can't drop them because we will lose a the variety in the two last columns \n",
    "# instead we can fill them with the mean of the column\n",
    "df[\"prob_0\"] = df[\"prob_0\"].fillna(df[\"prob_0\"].mean())\n",
    "df[\"am_pathogenicity\"] = df[\"am_pathogenicity\"].fillna(df[\"am_pathogenicity\"].mean())\n",
    "\n"
   ]
  },
  {
   "cell_type": "code",
   "execution_count": 14,
   "metadata": {},
   "outputs": [
    {
     "data": {
      "text/plain": [
       "gene                  0\n",
       "BETA                  0\n",
       "SE                    0\n",
       "prob_0                0\n",
       "am_pathogenicity      0\n",
       "pLoF_indicator        0\n",
       "missense_indicator    0\n",
       "dtype: int64"
      ]
     },
     "execution_count": 14,
     "metadata": {},
     "output_type": "execute_result"
    }
   ],
   "source": [
    "df.isnull().sum()"
   ]
  },
  {
   "cell_type": "code",
   "execution_count": 15,
   "metadata": {},
   "outputs": [
    {
     "name": "stdout",
     "output_type": "stream",
     "text": [
      "Number of examples: 1067213\n"
     ]
    }
   ],
   "source": [
    "print(f\"Number of examples: {df.shape[0]}\")"
   ]
  },
  {
   "cell_type": "code",
   "execution_count": 16,
   "metadata": {},
   "outputs": [
    {
     "name": "stdout",
     "output_type": "stream",
     "text": [
      "gene                       1\n",
      "BETA                  326120\n",
      "SE                    103251\n",
      "prob_0                  2776\n",
      "am_pathogenicity        1530\n",
      "pLoF_indicator             2\n",
      "missense_indicator         2\n",
      "dtype: int64\n"
     ]
    }
   ],
   "source": [
    "print(df.nunique()) # to make sure no constant columns"
   ]
  },
  {
   "cell_type": "markdown",
   "metadata": {},
   "source": [
    "### Preprocessing "
   ]
  },
  {
   "cell_type": "code",
   "execution_count": 17,
   "metadata": {},
   "outputs": [
    {
     "data": {
      "text/html": [
       "<div>\n",
       "<style scoped>\n",
       "    .dataframe tbody tr th:only-of-type {\n",
       "        vertical-align: middle;\n",
       "    }\n",
       "\n",
       "    .dataframe tbody tr th {\n",
       "        vertical-align: top;\n",
       "    }\n",
       "\n",
       "    .dataframe thead th {\n",
       "        text-align: right;\n",
       "    }\n",
       "</style>\n",
       "<table border=\"1\" class=\"dataframe\">\n",
       "  <thead>\n",
       "    <tr style=\"text-align: right;\">\n",
       "      <th></th>\n",
       "      <th>gene</th>\n",
       "      <th>BETA</th>\n",
       "      <th>SE</th>\n",
       "      <th>prob_0</th>\n",
       "      <th>am_pathogenicity</th>\n",
       "      <th>pLoF_indicator</th>\n",
       "      <th>missense_indicator</th>\n",
       "    </tr>\n",
       "  </thead>\n",
       "  <tbody>\n",
       "    <tr>\n",
       "      <th>0</th>\n",
       "      <td>APOB</td>\n",
       "      <td>0.012711</td>\n",
       "      <td>0.96865</td>\n",
       "      <td>0.042032</td>\n",
       "      <td>0.148500</td>\n",
       "      <td>0</td>\n",
       "      <td>1</td>\n",
       "    </tr>\n",
       "    <tr>\n",
       "      <th>1</th>\n",
       "      <td>APOB</td>\n",
       "      <td>1.577000</td>\n",
       "      <td>0.96861</td>\n",
       "      <td>0.023355</td>\n",
       "      <td>0.090200</td>\n",
       "      <td>0</td>\n",
       "      <td>1</td>\n",
       "    </tr>\n",
       "    <tr>\n",
       "      <th>2</th>\n",
       "      <td>APOB</td>\n",
       "      <td>-0.548010</td>\n",
       "      <td>0.96840</td>\n",
       "      <td>0.000067</td>\n",
       "      <td>0.257400</td>\n",
       "      <td>0</td>\n",
       "      <td>1</td>\n",
       "    </tr>\n",
       "    <tr>\n",
       "      <th>3</th>\n",
       "      <td>APOB</td>\n",
       "      <td>1.034900</td>\n",
       "      <td>0.96867</td>\n",
       "      <td>0.000040</td>\n",
       "      <td>0.195181</td>\n",
       "      <td>0</td>\n",
       "      <td>0</td>\n",
       "    </tr>\n",
       "    <tr>\n",
       "      <th>4</th>\n",
       "      <td>APOB</td>\n",
       "      <td>-0.004753</td>\n",
       "      <td>0.14775</td>\n",
       "      <td>0.000040</td>\n",
       "      <td>0.122400</td>\n",
       "      <td>0</td>\n",
       "      <td>1</td>\n",
       "    </tr>\n",
       "  </tbody>\n",
       "</table>\n",
       "</div>"
      ],
      "text/plain": [
       "   gene      BETA       SE    prob_0  am_pathogenicity  pLoF_indicator  \\\n",
       "0  APOB  0.012711  0.96865  0.042032          0.148500               0   \n",
       "1  APOB  1.577000  0.96861  0.023355          0.090200               0   \n",
       "2  APOB -0.548010  0.96840  0.000067          0.257400               0   \n",
       "3  APOB  1.034900  0.96867  0.000040          0.195181               0   \n",
       "4  APOB -0.004753  0.14775  0.000040          0.122400               0   \n",
       "\n",
       "   missense_indicator  \n",
       "0                   1  \n",
       "1                   1  \n",
       "2                   1  \n",
       "3                   0  \n",
       "4                   1  "
      ]
     },
     "execution_count": 17,
     "metadata": {},
     "output_type": "execute_result"
    }
   ],
   "source": [
    "df.head()"
   ]
  },
  {
   "cell_type": "code",
   "execution_count": 18,
   "metadata": {},
   "outputs": [
    {
     "name": "stdout",
     "output_type": "stream",
     "text": [
      "SE min: 0.0\n",
      "SE max: 7758.7\n"
     ]
    }
   ],
   "source": [
    "print(\"SE min:\", np.min(df[\"SE\"]))\n",
    "print(\"SE max:\", np.max(df[\"SE\"]))"
   ]
  },
  {
   "cell_type": "code",
   "execution_count": 19,
   "metadata": {},
   "outputs": [
    {
     "data": {
      "image/png": "[encoded data removed]",
      "text/plain": [
       "<Figure size 800x500 with 1 Axes>"
      ]
     },
     "metadata": {},
     "output_type": "display_data"
    }
   ],
   "source": [
    "# Assuming SE values are stored in a variable called se_values\n",
    "se_values = df[\"SE\"].values\n",
    "\n",
    "# Plot histogram of SE values\n",
    "plt.figure(figsize=(8, 5))\n",
    "plt.hist(se_values, bins=50, edgecolor=\"black\", log=True)  # Log scale for better visibility\n",
    "plt.xlabel(\"SE values\")\n",
    "plt.ylabel(\"Frequency (log scale)\")\n",
    "plt.title(\"Distribution of SE values\")\n",
    "plt.show()"
   ]
  },
  {
   "cell_type": "code",
   "execution_count": 20,
   "metadata": {},
   "outputs": [],
   "source": [
    "# Compute IQR\n",
    "Q1 = np.percentile(se_values, 25)\n",
    "Q3 = np.percentile(se_values, 75)\n",
    "IQR = Q3 - Q1\n",
    "\n",
    "# Define outlier thresholds\n",
    "lower_bound = Q1 - 1.5 * IQR\n",
    "upper_bound = Q3 + 1.5 * IQR\n",
    "\n",
    "# Filter out rows where SE is outside the bounds\n",
    "valid_indices = (se_values >= lower_bound) & (se_values <= upper_bound)\n",
    "df_filtered = df[valid_indices]\n"
   ]
  },
  {
   "cell_type": "code",
   "execution_count": 21,
   "metadata": {},
   "outputs": [
    {
     "name": "stdout",
     "output_type": "stream",
     "text": [
      "SE min: 0.0\n",
      "SE max: 1.7498\n"
     ]
    }
   ],
   "source": [
    "print(\"SE min:\", np.min(df_filtered[\"SE\"]))\n",
    "print(\"SE max:\", np.max(df_filtered[\"SE\"]))"
   ]
  },
  {
   "cell_type": "code",
   "execution_count": 22,
   "metadata": {},
   "outputs": [
    {
     "name": "stdout",
     "output_type": "stream",
     "text": [
      "Number of examples: 1052887\n"
     ]
    }
   ],
   "source": [
    "print(f\"Number of examples: {df_filtered.shape[0]}\")"
   ]
  },
  {
   "cell_type": "code",
   "execution_count": 23,
   "metadata": {},
   "outputs": [
    {
     "name": "stdout",
     "output_type": "stream",
     "text": [
      "SE min: 0.010003\n",
      "SE max: 1.7498\n",
      "Number of examples: 1049198\n"
     ]
    }
   ],
   "source": [
    "# Clip very small SE values to avoid extreme w values\n",
    "SE_min_threshold = 1e-2  # Adjust as needed\n",
    "df_filtered = df_filtered[df_filtered[\"SE\"] >= SE_min_threshold]\n",
    "print(\"SE min:\", np.min(df_filtered[\"SE\"]))\n",
    "print(\"SE max:\", np.max(df_filtered[\"SE\"]))\n",
    "print(f\"Number of examples: {df_filtered.shape[0]}\")"
   ]
  },
  {
   "cell_type": "code",
   "execution_count": 24,
   "metadata": {},
   "outputs": [],
   "source": [
    "X_full = df_filtered[[\"prob_0\", \"am_pathogenicity\", \"pLoF_indicator\", \"missense_indicator\"]].values\n",
    "y = df_filtered['BETA'].values\n",
    "w = 1 / (df_filtered['SE'].values ** 2)\n"
   ]
  },
  {
   "cell_type": "code",
   "execution_count": 25,
   "metadata": {},
   "outputs": [
    {
     "name": "stdout",
     "output_type": "stream",
     "text": [
      "w contains NaN: False\n",
      "w contains Inf: False\n",
      "w min: 0.3266052606100299\n",
      "w max: 9994.002698920405\n",
      "the shape of w is: (1049198,)\n"
     ]
    }
   ],
   "source": [
    "print(\"w contains NaN:\", np.isnan(w).any())\n",
    "print(\"w contains Inf:\", np.isinf(w).any())\n",
    "print(\"w min:\", np.min(w))\n",
    "print(\"w max:\", np.max(w))\n",
    "print(\"the shape of w is:\", w.shape)"
   ]
  },
  {
   "cell_type": "code",
   "execution_count": 26,
   "metadata": {},
   "outputs": [
    {
     "name": "stdout",
     "output_type": "stream",
     "text": [
      "Shape of X_full: (1049198, 4)\n"
     ]
    }
   ],
   "source": [
    "# Print the shape of matrix X_full\n",
    "print(\"Shape of X_full:\", X_full.shape)"
   ]
  },
  {
   "cell_type": "code",
   "execution_count": 27,
   "metadata": {},
   "outputs": [],
   "source": [
    "X_w = X_full.T * w\n",
    "tmp = X_w @ X_full# Equivalent to X_full.T @ np.diag(w) @ X_full"
   ]
  },
  {
   "cell_type": "code",
   "execution_count": 28,
   "metadata": {},
   "outputs": [
    {
     "name": "stdout",
     "output_type": "stream",
     "text": [
      "Determinant: 2.182307612322103e+23\n",
      "Rank: 4 / 4\n"
     ]
    }
   ],
   "source": [
    "\n",
    "print(\"Determinant:\", np.linalg.det(tmp))\n",
    "print(\"Rank:\", np.linalg.matrix_rank(tmp), \"/\", tmp.shape[0])"
   ]
  },
  {
   "cell_type": "code",
   "execution_count": 29,
   "metadata": {},
   "outputs": [],
   "source": [
    "matrix_to_invert = np.linalg.pinv(tmp) \n"
   ]
  },
  {
   "cell_type": "code",
   "execution_count": 30,
   "metadata": {},
   "outputs": [],
   "source": [
    "beta_full = matrix_to_invert @ (X_w @ y)\n"
   ]
  },
  {
   "cell_type": "code",
   "execution_count": 31,
   "metadata": {},
   "outputs": [],
   "source": [
    "\n",
    "fitted_values_full = np.dot(X_full, beta_full)\n"
   ]
  },
  {
   "cell_type": "code",
   "execution_count": 32,
   "metadata": {},
   "outputs": [
    {
     "name": "stdout",
     "output_type": "stream",
     "text": [
      "Correlation Matrix:\n",
      "          0         1         2         3\n",
      "0  1.000000 -0.004740  0.018263  0.005628\n",
      "1 -0.004740  1.000000  0.000118 -0.000395\n",
      "2  0.018263  0.000118  1.000000 -0.298417\n",
      "3  0.005628 -0.000395 -0.298417  1.000000\n"
     ]
    }
   ],
   "source": [
    "corr_matrix = pd.DataFrame(X_full).corr()\n",
    "print(\"Correlation Matrix:\")\n",
    "print(corr_matrix)"
   ]
  },
  {
   "cell_type": "markdown",
   "metadata": {},
   "source": [
    "The highest absolute correlation is -0.2984, which is still moderate at best."
   ]
  },
  {
   "cell_type": "code",
   "execution_count": 33,
   "metadata": {},
   "outputs": [
    {
     "name": "stdout",
     "output_type": "stream",
     "text": [
      "X_full contains NaN: False\n"
     ]
    }
   ],
   "source": [
    "# Does X_full contain any NaN values?\n",
    "print(\"X_full contains NaN:\", np.isnan(X_full).any())"
   ]
  },
  {
   "cell_type": "code",
   "execution_count": 34,
   "metadata": {},
   "outputs": [
    {
     "name": "stdout",
     "output_type": "stream",
     "text": [
      "0    2776\n",
      "1    1530\n",
      "2       2\n",
      "3       2\n",
      "dtype: int64\n"
     ]
    }
   ],
   "source": [
    "print(pd.DataFrame(X_full).nunique())"
   ]
  },
  {
   "cell_type": "markdown",
   "metadata": {},
   "source": [
    "## Plotting of filtered data"
   ]
  },
  {
   "cell_type": "code",
   "execution_count": 35,
   "metadata": {},
   "outputs": [],
   "source": [
    "%matplotlib inline\n"
   ]
  },
  {
   "cell_type": "code",
   "execution_count": 36,
   "metadata": {},
   "outputs": [
    {
     "name": "stdout",
     "output_type": "stream",
     "text": [
      "Moderators identified: ['prob_0', 'am_pathogenicity', 'pLoF_indicator', 'missense_indicator']\n",
      "Unique genes found: ['APOB']\n",
      "Computing variance explained for moderator: prob_0\n",
      "Computing variance explained for moderator: am_pathogenicity\n",
      "Computing variance explained for moderator: pLoF_indicator\n",
      "Computing variance explained for moderator: missense_indicator\n",
      "Processing full model R² for gene: APOB\n",
      "For gene APOB : SSR Full= 1103241.0900303237, SST= 1103338.7102968858\n",
      "Computed Full Model R² values: {'APOB': np.float64(8.8477151803934e-05)}\n",
      "Generating plot for gene: APOB\n",
      "   gene  Proportion_Variance_Explained\n",
      "0  APOB                       0.241823\n",
      "   gene  Proportion_Variance_Explained\n",
      "0  APOB                       0.473308\n",
      "   gene  Proportion_Variance_Explained\n",
      "0  APOB                       0.410139\n",
      "   gene  Proportion_Variance_Explained\n",
      "0  APOB                       0.470665\n",
      "Variance data for gene APOB: {'prob_0': np.float64(0.2418231671907962), 'am_pathogenicity': np.float64(0.47330846323472037), 'pLoF_indicator': np.float64(0.4101394359422254), 'missense_indicator': np.float64(0.4706649274084633), 'Full Model': np.float64(8.8477151803934e-05)}\n"
     ]
    },
    {
     "data": {
      "image/png": "[encoded data removed]",
      "text/plain": [
       "<Figure size 1000x600 with 1 Axes>"
      ]
     },
     "metadata": {},
     "output_type": "display_data"
    }
   ],
   "source": [
    "uv.plot_proportion_variance_explained(df_filtered, fitted_values_full, style=\"matplotlib\", gene_filter=[\"APOB\"])"
   ]
  },
  {
   "cell_type": "markdown",
   "metadata": {},
   "source": [
    "If the variance explained by each moderator separately is high, but the full model’s R^2 is low, then:\n",
    "- The moderators might be explaining the same variance, so they don’t add up in the full model.\n",
    "- The variance explained per moderator is overestimated due to shared variance with other factors."
   ]
  },
  {
   "cell_type": "markdown",
   "metadata": {},
   "source": [
    "Variance Inflation Factor (VIF) is a measure of multicollinearity among the independent variables in a regression model."
   ]
  },
  {
   "cell_type": "code",
   "execution_count": 37,
   "metadata": {},
   "outputs": [
    {
     "name": "stdout",
     "output_type": "stream",
     "text": [
      "              Feature       VIF\n",
      "0              prob_0  1.039968\n",
      "1    am_pathogenicity  1.870392\n",
      "2      pLoF_indicator  1.052101\n",
      "3  missense_indicator  1.831525\n"
     ]
    }
   ],
   "source": [
    "from statsmodels.stats.outliers_influence import variance_inflation_factor\n",
    "\n",
    "X = df_filtered[[\"prob_0\", \"am_pathogenicity\", \"pLoF_indicator\", \"missense_indicator\"]]\n",
    "vif_data = pd.DataFrame()\n",
    "vif_data[\"Feature\"] = X.columns\n",
    "vif_data[\"VIF\"] = [variance_inflation_factor(X.values, i) for i in range(X.shape[1])]\n",
    "\n",
    "print(vif_data)"
   ]
  },
  {
   "cell_type": "markdown",
   "metadata": {},
   "source": [
    "Since all VIF values are below 5, predictors are not highly correlated, meaning they are relatively independent./"
   ]
  },
  {
   "cell_type": "code",
   "execution_count": 38,
   "metadata": {},
   "outputs": [
    {
     "name": "stdout",
     "output_type": "stream",
     "text": [
      "Moderators identified: ['prob_0', 'am_pathogenicity', 'pLoF_indicator', 'missense_indicator']\n",
      "Unique genes found: ['APOB']\n",
      "Computing variance explained for moderator: prob_0\n",
      "Computing variance explained for moderator: am_pathogenicity\n",
      "Computing variance explained for moderator: pLoF_indicator\n",
      "Computing variance explained for moderator: missense_indicator\n",
      "Processing full model R² for gene: APOB\n",
      "For gene APOB : SSR Full= 1103241.0900303237, SST= 1103338.7102968858\n",
      "Computed Full Model R² values: {'APOB': np.float64(8.8477151803934e-05)}\n",
      "Generating plot for gene: APOB\n",
      "   gene  Proportion_Variance_Explained\n",
      "0  APOB                       0.241823\n",
      "   gene  Proportion_Variance_Explained\n",
      "0  APOB                       0.473308\n",
      "   gene  Proportion_Variance_Explained\n",
      "0  APOB                       0.410139\n",
      "   gene  Proportion_Variance_Explained\n",
      "0  APOB                       0.470665\n",
      "Variance data for gene APOB: {'prob_0': np.float64(0.2418231671907962), 'am_pathogenicity': np.float64(0.47330846323472037), 'pLoF_indicator': np.float64(0.4101394359422254), 'missense_indicator': np.float64(0.4706649274084633), 'Full Model': np.float64(8.8477151803934e-05)}\n"
     ]
    },
    {
     "data": {
      "image/png": "[encoded data removed]",
      "text/plain": [
       "<Figure size 1000x600 with 1 Axes>"
      ]
     },
     "metadata": {},
     "output_type": "display_data"
    }
   ],
   "source": [
    "uv.plot_proportion_variance_explained(df_filtered, fitted_values_full, style=\"seaborn\", gene_filter=[\"APOB\"])"
   ]
  },
  {
   "cell_type": "code",
   "execution_count": 39,
   "metadata": {},
   "outputs": [
    {
     "name": "stdout",
     "output_type": "stream",
     "text": [
      "Moderators identified: ['prob_0', 'am_pathogenicity', 'pLoF_indicator', 'missense_indicator']\n",
      "Unique genes found: ['APOB']\n",
      "Computing variance explained for moderator: prob_0\n",
      "Computing variance explained for moderator: am_pathogenicity\n",
      "Computing variance explained for moderator: pLoF_indicator\n",
      "Computing variance explained for moderator: missense_indicator\n",
      "Processing full model R² for gene: APOB\n",
      "For gene APOB : SSR Full= 1103241.0900303237, SST= 1103338.7102968858\n",
      "Computed Full Model R² values: {'APOB': np.float64(8.8477151803934e-05)}\n",
      "Generating plot for gene: APOB\n",
      "   gene  Proportion_Variance_Explained\n",
      "0  APOB                       0.241823\n",
      "   gene  Proportion_Variance_Explained\n",
      "0  APOB                       0.473308\n",
      "   gene  Proportion_Variance_Explained\n",
      "0  APOB                       0.410139\n",
      "   gene  Proportion_Variance_Explained\n",
      "0  APOB                       0.470665\n",
      "Variance data for gene APOB: {'prob_0': np.float64(0.2418231671907962), 'am_pathogenicity': np.float64(0.47330846323472037), 'pLoF_indicator': np.float64(0.4101394359422254), 'missense_indicator': np.float64(0.4706649274084633), 'Full Model': np.float64(8.8477151803934e-05)}\n"
     ]
    },
    {
     "data": {
      "application/vnd.plotly.v1+json": {
       "config": {
        "plotlyServerURL": "https://plot.ly"
       },
       "data": [
        {
         "hovertemplate": "Proportion of Variance Explained (%)=%{marker.color}<br>Moderator=%{y}<extra></extra>",
         "legendgroup": "",
         "marker": {
          "color": {
           "bdata": "A/b5TqwuOEA5qB0sWapHQFaWWOfIgURAnq2J1YKIR0AAvsA6wB6CPw==",
           "dtype": "f8"
          },
          "coloraxis": "coloraxis",
          "pattern": {
           "shape": ""
          }
         },
         "name": "",
         "orientation": "h",
         "showlegend": false,
         "text": {
          "bdata": "A/b5TqwuOEA5qB0sWapHQFaWWOfIgURAnq2J1YKIR0AAvsA6wB6CPw==",
          "dtype": "f8"
         },
         "textposition": "inside",
         "texttemplate": "%{text:.1f}%",
         "type": "bar",
         "x": {
          "bdata": "A/b5TqwuOEA5qB0sWapHQFaWWOfIgURAnq2J1YKIR0AAvsA6wB6CPw==",
          "dtype": "f8"
         },
         "xaxis": "x",
         "y": [
          "prob_0",
          "am_pathogenicity",
          "pLoF_indicator",
          "missense_indicator",
          "Full Model"
         ],
         "yaxis": "y"
        }
       ],
       "layout": {
        "barmode": "relative",
        "coloraxis": {
         "colorbar": {
          "title": {
           "text": "Proportion of Variance Explained (%)"
          }
         },
         "colorscale": [
          [
           0,
           "rgb(247,251,255)"
          ],
          [
           0.125,
           "rgb(222,235,247)"
          ],
          [
           0.25,
           "rgb(198,219,239)"
          ],
          [
           0.375,
           "rgb(158,202,225)"
          ],
          [
           0.5,
           "rgb(107,174,214)"
          ],
          [
           0.625,
           "rgb(66,146,198)"
          ],
          [
           0.75,
           "rgb(33,113,181)"
          ],
          [
           0.875,
           "rgb(8,81,156)"
          ],
          [
           1,
           "rgb(8,48,107)"
          ]
         ],
         "showscale": false
        },
        "legend": {
         "tracegroupgap": 0
        },
        "template": {
         "data": {
          "bar": [
           {
            "error_x": {
             "color": "#2a3f5f"
            },
            "error_y": {
             "color": "#2a3f5f"
            },
            "marker": {
             "line": {
              "color": "white",
              "width": 0.5
             },
             "pattern": {
              "fillmode": "overlay",
              "size": 10,
              "solidity": 0.2
             }
            },
            "type": "bar"
           }
          ],
          "barpolar": [
           {
            "marker": {
             "line": {
              "color": "white",
              "width": 0.5
             },
             "pattern": {
              "fillmode": "overlay",
              "size": 10,
              "solidity": 0.2
             }
            },
            "type": "barpolar"
           }
          ],
          "carpet": [
           {
            "aaxis": {
             "endlinecolor": "#2a3f5f",
             "gridcolor": "#C8D4E3",
             "linecolor": "#C8D4E3",
             "minorgridcolor": "#C8D4E3",
             "startlinecolor": "#2a3f5f"
            },
            "baxis": {
             "endlinecolor": "#2a3f5f",
             "gridcolor": "#C8D4E3",
             "linecolor": "#C8D4E3",
             "minorgridcolor": "#C8D4E3",
             "startlinecolor": "#2a3f5f"
            },
            "type": "carpet"
           }
          ],
          "choropleth": [
           {
            "colorbar": {
             "outlinewidth": 0,
             "ticks": ""
            },
            "type": "choropleth"
           }
          ],
          "contour": [
           {
            "colorbar": {
             "outlinewidth": 0,
             "ticks": ""
            },
            "colorscale": [
             [
              0,
              "#0d0887"
             ],
             [
              0.1111111111111111,
              "#46039f"
             ],
             [
              0.2222222222222222,
              "#7201a8"
             ],
             [
              0.3333333333333333,
              "#9c179e"
             ],
             [
              0.4444444444444444,
              "#bd3786"
             ],
             [
              0.5555555555555556,
              "#d8576b"
             ],
             [
              0.6666666666666666,
              "#ed7953"
             ],
             [
              0.7777777777777778,
              "#fb9f3a"
             ],
             [
              0.8888888888888888,
              "#fdca26"
             ],
             [
              1,
              "#f0f921"
             ]
            ],
            "type": "contour"
           }
          ],
          "contourcarpet": [
           {
            "colorbar": {
             "outlinewidth": 0,
             "ticks": ""
            },
            "type": "contourcarpet"
           }
          ],
          "heatmap": [
           {
            "colorbar": {
             "outlinewidth": 0,
             "ticks": ""
            },
            "colorscale": [
             [
              0,
              "#0d0887"
             ],
             [
              0.1111111111111111,
              "#46039f"
             ],
             [
              0.2222222222222222,
              "#7201a8"
             ],
             [
              0.3333333333333333,
              "#9c179e"
             ],
             [
              0.4444444444444444,
              "#bd3786"
             ],
             [
              0.5555555555555556,
              "#d8576b"
             ],
             [
              0.6666666666666666,
              "#ed7953"
             ],
             [
              0.7777777777777778,
              "#fb9f3a"
             ],
             [
              0.8888888888888888,
              "#fdca26"
             ],
             [
              1,
              "#f0f921"
             ]
            ],
            "type": "heatmap"
           }
          ],
          "histogram": [
           {
            "marker": {
             "pattern": {
              "fillmode": "overlay",
              "size": 10,
              "solidity": 0.2
             }
            },
            "type": "histogram"
           }
          ],
          "histogram2d": [
           {
            "colorbar": {
             "outlinewidth": 0,
             "ticks": ""
            },
            "colorscale": [
             [
              0,
              "#0d0887"
             ],
             [
              0.1111111111111111,
              "#46039f"
             ],
             [
              0.2222222222222222,
              "#7201a8"
             ],
             [
              0.3333333333333333,
              "#9c179e"
             ],
             [
              0.4444444444444444,
              "#bd3786"
             ],
             [
              0.5555555555555556,
              "#d8576b"
             ],
             [
              0.6666666666666666,
              "#ed7953"
             ],
             [
              0.7777777777777778,
              "#fb9f3a"
             ],
             [
              0.8888888888888888,
              "#fdca26"
             ],
             [
              1,
              "#f0f921"
             ]
            ],
            "type": "histogram2d"
           }
          ],
          "histogram2dcontour": [
           {
            "colorbar": {
             "outlinewidth": 0,
             "ticks": ""
            },
            "colorscale": [
             [
              0,
              "#0d0887"
             ],
             [
              0.1111111111111111,
              "#46039f"
             ],
             [
              0.2222222222222222,
              "#7201a8"
             ],
             [
              0.3333333333333333,
              "#9c179e"
             ],
             [
              0.4444444444444444,
              "#bd3786"
             ],
             [
              0.5555555555555556,
              "#d8576b"
             ],
             [
              0.6666666666666666,
              "#ed7953"
             ],
             [
              0.7777777777777778,
              "#fb9f3a"
             ],
             [
              0.8888888888888888,
              "#fdca26"
             ],
             [
              1,
              "#f0f921"
             ]
            ],
            "type": "histogram2dcontour"
           }
          ],
          "mesh3d": [
           {
            "colorbar": {
             "outlinewidth": 0,
             "ticks": ""
            },
            "type": "mesh3d"
           }
          ],
          "parcoords": [
           {
            "line": {
             "colorbar": {
              "outlinewidth": 0,
              "ticks": ""
             }
            },
            "type": "parcoords"
           }
          ],
          "pie": [
           {
            "automargin": true,
            "type": "pie"
           }
          ],
          "scatter": [
           {
            "fillpattern": {
             "fillmode": "overlay",
             "size": 10,
             "solidity": 0.2
            },
            "type": "scatter"
           }
          ],
          "scatter3d": [
           {
            "line": {
             "colorbar": {
              "outlinewidth": 0,
              "ticks": ""
             }
            },
            "marker": {
             "colorbar": {
              "outlinewidth": 0,
              "ticks": ""
             }
            },
            "type": "scatter3d"
           }
          ],
          "scattercarpet": [
           {
            "marker": {
             "colorbar": {
              "outlinewidth": 0,
              "ticks": ""
             }
            },
            "type": "scattercarpet"
           }
          ],
          "scattergeo": [
           {
            "marker": {
             "colorbar": {
              "outlinewidth": 0,
              "ticks": ""
             }
            },
            "type": "scattergeo"
           }
          ],
          "scattergl": [
           {
            "marker": {
             "colorbar": {
              "outlinewidth": 0,
              "ticks": ""
             }
            },
            "type": "scattergl"
           }
          ],
          "scattermap": [
           {
            "marker": {
             "colorbar": {
              "outlinewidth": 0,
              "ticks": ""
             }
            },
            "type": "scattermap"
           }
          ],
          "scattermapbox": [
           {
            "marker": {
             "colorbar": {
              "outlinewidth": 0,
              "ticks": ""
             }
            },
            "type": "scattermapbox"
           }
          ],
          "scatterpolar": [
           {
            "marker": {
             "colorbar": {
              "outlinewidth": 0,
              "ticks": ""
             }
            },
            "type": "scatterpolar"
           }
          ],
          "scatterpolargl": [
           {
            "marker": {
             "colorbar": {
              "outlinewidth": 0,
              "ticks": ""
             }
            },
            "type": "scatterpolargl"
           }
          ],
          "scatterternary": [
           {
            "marker": {
             "colorbar": {
              "outlinewidth": 0,
              "ticks": ""
             }
            },
            "type": "scatterternary"
           }
          ],
          "surface": [
           {
            "colorbar": {
             "outlinewidth": 0,
             "ticks": ""
            },
            "colorscale": [
             [
              0,
              "#0d0887"
             ],
             [
              0.1111111111111111,
              "#46039f"
             ],
             [
              0.2222222222222222,
              "#7201a8"
             ],
             [
              0.3333333333333333,
              "#9c179e"
             ],
             [
              0.4444444444444444,
              "#bd3786"
             ],
             [
              0.5555555555555556,
              "#d8576b"
             ],
             [
              0.6666666666666666,
              "#ed7953"
             ],
             [
              0.7777777777777778,
              "#fb9f3a"
             ],
             [
              0.8888888888888888,
              "#fdca26"
             ],
             [
              1,
              "#f0f921"
             ]
            ],
            "type": "surface"
           }
          ],
          "table": [
           {
            "cells": {
             "fill": {
              "color": "#EBF0F8"
             },
             "line": {
              "color": "white"
             }
            },
            "header": {
             "fill": {
              "color": "#C8D4E3"
             },
             "line": {
              "color": "white"
             }
            },
            "type": "table"
           }
          ]
         },
         "layout": {
          "annotationdefaults": {
           "arrowcolor": "#2a3f5f",
           "arrowhead": 0,
           "arrowwidth": 1
          },
          "autotypenumbers": "strict",
          "coloraxis": {
           "colorbar": {
            "outlinewidth": 0,
            "ticks": ""
           }
          },
          "colorscale": {
           "diverging": [
            [
             0,
             "#8e0152"
            ],
            [
             0.1,
             "#c51b7d"
            ],
            [
             0.2,
             "#de77ae"
            ],
            [
             0.3,
             "#f1b6da"
            ],
            [
             0.4,
             "#fde0ef"
            ],
            [
             0.5,
             "#f7f7f7"
            ],
            [
             0.6,
             "#e6f5d0"
            ],
            [
             0.7,
             "#b8e186"
            ],
            [
             0.8,
             "#7fbc41"
            ],
            [
             0.9,
             "#4d9221"
            ],
            [
             1,
             "#276419"
            ]
           ],
           "sequential": [
            [
             0,
             "#0d0887"
            ],
            [
             0.1111111111111111,
             "#46039f"
            ],
            [
             0.2222222222222222,
             "#7201a8"
            ],
            [
             0.3333333333333333,
             "#9c179e"
            ],
            [
             0.4444444444444444,
             "#bd3786"
            ],
            [
             0.5555555555555556,
             "#d8576b"
            ],
            [
             0.6666666666666666,
             "#ed7953"
            ],
            [
             0.7777777777777778,
             "#fb9f3a"
            ],
            [
             0.8888888888888888,
             "#fdca26"
            ],
            [
             1,
             "#f0f921"
            ]
           ],
           "sequentialminus": [
            [
             0,
             "#0d0887"
            ],
            [
             0.1111111111111111,
             "#46039f"
            ],
            [
             0.2222222222222222,
             "#7201a8"
            ],
            [
             0.3333333333333333,
             "#9c179e"
            ],
            [
             0.4444444444444444,
             "#bd3786"
            ],
            [
             0.5555555555555556,
             "#d8576b"
            ],
            [
             0.6666666666666666,
             "#ed7953"
            ],
            [
             0.7777777777777778,
             "#fb9f3a"
            ],
            [
             0.8888888888888888,
             "#fdca26"
            ],
            [
             1,
             "#f0f921"
            ]
           ]
          },
          "colorway": [
           "#636efa",
           "#EF553B",
           "#00cc96",
           "#ab63fa",
           "#FFA15A",
           "#19d3f3",
           "#FF6692",
           "#B6E880",
           "#FF97FF",
           "#FECB52"
          ],
          "font": {
           "color": "#2a3f5f"
          },
          "geo": {
           "bgcolor": "white",
           "lakecolor": "white",
           "landcolor": "white",
           "showlakes": true,
           "showland": true,
           "subunitcolor": "#C8D4E3"
          },
          "hoverlabel": {
           "align": "left"
          },
          "hovermode": "closest",
          "mapbox": {
           "style": "light"
          },
          "paper_bgcolor": "white",
          "plot_bgcolor": "white",
          "polar": {
           "angularaxis": {
            "gridcolor": "#EBF0F8",
            "linecolor": "#EBF0F8",
            "ticks": ""
           },
           "bgcolor": "white",
           "radialaxis": {
            "gridcolor": "#EBF0F8",
            "linecolor": "#EBF0F8",
            "ticks": ""
           }
          },
          "scene": {
           "xaxis": {
            "backgroundcolor": "white",
            "gridcolor": "#DFE8F3",
            "gridwidth": 2,
            "linecolor": "#EBF0F8",
            "showbackground": true,
            "ticks": "",
            "zerolinecolor": "#EBF0F8"
           },
           "yaxis": {
            "backgroundcolor": "white",
            "gridcolor": "#DFE8F3",
            "gridwidth": 2,
            "linecolor": "#EBF0F8",
            "showbackground": true,
            "ticks": "",
            "zerolinecolor": "#EBF0F8"
           },
           "zaxis": {
            "backgroundcolor": "white",
            "gridcolor": "#DFE8F3",
            "gridwidth": 2,
            "linecolor": "#EBF0F8",
            "showbackground": true,
            "ticks": "",
            "zerolinecolor": "#EBF0F8"
           }
          },
          "shapedefaults": {
           "line": {
            "color": "#2a3f5f"
           }
          },
          "ternary": {
           "aaxis": {
            "gridcolor": "#DFE8F3",
            "linecolor": "#A2B1C6",
            "ticks": ""
           },
           "baxis": {
            "gridcolor": "#DFE8F3",
            "linecolor": "#A2B1C6",
            "ticks": ""
           },
           "bgcolor": "white",
           "caxis": {
            "gridcolor": "#DFE8F3",
            "linecolor": "#A2B1C6",
            "ticks": ""
           }
          },
          "title": {
           "x": 0.05
          },
          "xaxis": {
           "automargin": true,
           "gridcolor": "#EBF0F8",
           "linecolor": "#EBF0F8",
           "ticks": "",
           "title": {
            "standoff": 15
           },
           "zerolinecolor": "#EBF0F8",
           "zerolinewidth": 2
          },
          "yaxis": {
           "automargin": true,
           "gridcolor": "#EBF0F8",
           "linecolor": "#EBF0F8",
           "ticks": "",
           "title": {
            "standoff": 15
           },
           "zerolinecolor": "#EBF0F8",
           "zerolinewidth": 2
          }
         }
        },
        "title": {
         "text": "Proportion of Variance Explained per Moderator and Full Model"
        },
        "xaxis": {
         "anchor": "y",
         "domain": [
          0,
          1
         ],
         "range": [
          0,
          100
         ],
         "title": {
          "text": "Proportion of Variance Explained (%)"
         }
        },
        "yaxis": {
         "anchor": "x",
         "categoryarray": [
          "prob_0",
          "am_pathogenicity",
          "pLoF_indicator",
          "missense_indicator",
          "Full Model"
         ],
         "categoryorder": "array",
         "domain": [
          0,
          1
         ],
         "title": {
          "text": "Moderator"
         }
        }
       }
      }
     },
     "metadata": {},
     "output_type": "display_data"
    }
   ],
   "source": [
    "uv.plot_proportion_variance_explained(df_filtered, fitted_values_full, style=\"plotly\", gene_filter=[\"APOB\"])"
   ]
  },
  {
   "cell_type": "code",
   "execution_count": null,
   "metadata": {},
   "outputs": [],
   "source": []
  }
 ],
 "metadata": {
  "kernelspec": {
   "display_name": "Python 3",
   "language": "python",
   "name": "python3"
  },
  "language_info": {
   "codemirror_mode": {
    "name": "ipython",
    "version": 3
   },
   "file_extension": ".py",
   "mimetype": "text/x-python",
   "name": "python",
   "nbconvert_exporter": "python",
   "pygments_lexer": "ipython3",
   "version": "3.11.6"
  }
 },
 "nbformat": 4,
 "nbformat_minor": 2
}
