{
 "cells": [
  {
   "cell_type": "markdown",
   "metadata": {},
   "source": [
    "cd /scratch/groups/mrivas/szainana/"
   ]
  },
  {
   "cell_type": "code",
   "execution_count": 1,
   "metadata": {},
   "outputs": [
    {
     "name": "stdout",
     "output_type": "stream",
     "text": [
      "Found existing installation: umr-visualizer 0.1.2\n",
      "Uninstalling umr-visualizer-0.1.2:\n",
      "  Successfully uninstalled umr-visualizer-0.1.2\n"
     ]
    }
   ],
   "source": [
    "!pip uninstall umr-visualizer -y\n"
   ]
  },
  {
   "cell_type": "code",
   "execution_count": 2,
   "metadata": {},
   "outputs": [],
   "source": [
    "! pip list | grep umr-visualizer"
   ]
  },
  {
   "cell_type": "code",
   "execution_count": 3,
   "metadata": {},
   "outputs": [
    {
     "name": "stdout",
     "output_type": "stream",
     "text": [
      "Obtaining file:///Users/salmazainana/umr-visualizer\n",
      "  Preparing metadata (setup.py) ... \u001b[?25ldone\n",
      "\u001b[?25hRequirement already satisfied: numpy in /opt/anaconda3/envs/umr-visualizer/lib/python3.10/site-packages (from umr-visualizer==0.1.2) (2.2.3)\n",
      "Requirement already satisfied: pandas in /opt/anaconda3/envs/umr-visualizer/lib/python3.10/site-packages (from umr-visualizer==0.1.2) (2.2.3)\n",
      "Requirement already satisfied: matplotlib in /opt/anaconda3/envs/umr-visualizer/lib/python3.10/site-packages (from umr-visualizer==0.1.2) (3.10.0)\n",
      "Requirement already satisfied: contourpy>=1.0.1 in /opt/anaconda3/envs/umr-visualizer/lib/python3.10/site-packages (from matplotlib->umr-visualizer==0.1.2) (1.3.1)\n",
      "Requirement already satisfied: cycler>=0.10 in /opt/anaconda3/envs/umr-visualizer/lib/python3.10/site-packages (from matplotlib->umr-visualizer==0.1.2) (0.12.1)\n",
      "Requirement already satisfied: fonttools>=4.22.0 in /opt/anaconda3/envs/umr-visualizer/lib/python3.10/site-packages (from matplotlib->umr-visualizer==0.1.2) (4.56.0)\n",
      "Requirement already satisfied: kiwisolver>=1.3.1 in /opt/anaconda3/envs/umr-visualizer/lib/python3.10/site-packages (from matplotlib->umr-visualizer==0.1.2) (1.4.8)\n",
      "Requirement already satisfied: packaging>=20.0 in /opt/anaconda3/envs/umr-visualizer/lib/python3.10/site-packages (from matplotlib->umr-visualizer==0.1.2) (24.2)\n",
      "Requirement already satisfied: pillow>=8 in /opt/anaconda3/envs/umr-visualizer/lib/python3.10/site-packages (from matplotlib->umr-visualizer==0.1.2) (11.1.0)\n",
      "Requirement already satisfied: pyparsing>=2.3.1 in /opt/anaconda3/envs/umr-visualizer/lib/python3.10/site-packages (from matplotlib->umr-visualizer==0.1.2) (3.2.1)\n",
      "Requirement already satisfied: python-dateutil>=2.7 in /opt/anaconda3/envs/umr-visualizer/lib/python3.10/site-packages (from matplotlib->umr-visualizer==0.1.2) (2.9.0.post0)\n",
      "Requirement already satisfied: pytz>=2020.1 in /opt/anaconda3/envs/umr-visualizer/lib/python3.10/site-packages (from pandas->umr-visualizer==0.1.2) (2025.1)\n",
      "Requirement already satisfied: tzdata>=2022.7 in /opt/anaconda3/envs/umr-visualizer/lib/python3.10/site-packages (from pandas->umr-visualizer==0.1.2) (2025.1)\n",
      "Requirement already satisfied: six>=1.5 in /opt/anaconda3/envs/umr-visualizer/lib/python3.10/site-packages (from python-dateutil>=2.7->matplotlib->umr-visualizer==0.1.2) (1.17.0)\n",
      "Installing collected packages: umr-visualizer\n",
      "\u001b[33m  DEPRECATION: Legacy editable install of umr-visualizer==0.1.2 from file:///Users/salmazainana/umr-visualizer (setup.py develop) is deprecated. pip 25.1 will enforce this behaviour change. A possible replacement is to add a pyproject.toml or enable --use-pep517, and use setuptools >= 64. If the resulting installation is not behaving as expected, try using --config-settings editable_mode=compat. Please consult the setuptools documentation for more information. Discussion can be found at https://github.com/pypa/pip/issues/11457\u001b[0m\u001b[33m\n",
      "\u001b[0m  Running setup.py develop for umr-visualizer\n",
      "Successfully installed umr-visualizer\n",
      "Requirement already satisfied: nbformat in /opt/anaconda3/envs/umr-visualizer/lib/python3.10/site-packages (5.10.4)\n",
      "Requirement already satisfied: fastjsonschema>=2.15 in /opt/anaconda3/envs/umr-visualizer/lib/python3.10/site-packages (from nbformat) (2.21.1)\n",
      "Requirement already satisfied: jsonschema>=2.6 in /opt/anaconda3/envs/umr-visualizer/lib/python3.10/site-packages (from nbformat) (4.23.0)\n",
      "Requirement already satisfied: jupyter-core!=5.0.*,>=4.12 in /opt/anaconda3/envs/umr-visualizer/lib/python3.10/site-packages (from nbformat) (5.7.2)\n",
      "Requirement already satisfied: traitlets>=5.1 in /opt/anaconda3/envs/umr-visualizer/lib/python3.10/site-packages (from nbformat) (5.14.3)\n",
      "Requirement already satisfied: attrs>=22.2.0 in /opt/anaconda3/envs/umr-visualizer/lib/python3.10/site-packages (from jsonschema>=2.6->nbformat) (25.1.0)\n",
      "Requirement already satisfied: jsonschema-specifications>=2023.03.6 in /opt/anaconda3/envs/umr-visualizer/lib/python3.10/site-packages (from jsonschema>=2.6->nbformat) (2024.10.1)\n",
      "Requirement already satisfied: referencing>=0.28.4 in /opt/anaconda3/envs/umr-visualizer/lib/python3.10/site-packages (from jsonschema>=2.6->nbformat) (0.36.2)\n",
      "Requirement already satisfied: rpds-py>=0.7.1 in /opt/anaconda3/envs/umr-visualizer/lib/python3.10/site-packages (from jsonschema>=2.6->nbformat) (0.23.0)\n",
      "Requirement already satisfied: platformdirs>=2.5 in /opt/anaconda3/envs/umr-visualizer/lib/python3.10/site-packages (from jupyter-core!=5.0.*,>=4.12->nbformat) (4.3.6)\n",
      "Requirement already satisfied: typing-extensions>=4.4.0 in /opt/anaconda3/envs/umr-visualizer/lib/python3.10/site-packages (from referencing>=0.28.4->jsonschema>=2.6->nbformat) (4.12.2)\n"
     ]
    }
   ],
   "source": [
    "! pip install -e /Users/salmazainana/umr-visualizer\n",
    "! pip install --upgrade nbformat\n",
    "\n"
   ]
  },
  {
   "cell_type": "code",
   "execution_count": 4,
   "metadata": {},
   "outputs": [
    {
     "name": "stdout",
     "output_type": "stream",
     "text": [
      "umr-visualizer            0.1.2       /Users/salmazainana/umr-visualizer\n"
     ]
    }
   ],
   "source": [
    "# Check if package installed\n",
    "! pip list | grep umr-visualizer"
   ]
  },
  {
   "cell_type": "code",
   "execution_count": 5,
   "metadata": {},
   "outputs": [
    {
     "name": "stdout",
     "output_type": "stream",
     "text": [
      "/opt/anaconda3/envs/umr-visualizer/bin/python\n"
     ]
    }
   ],
   "source": [
    "# # Even if the package is installed, sometimes Jupyter doesn’t recognize it. To fix this:\n",
    "import sys\n",
    "print(sys.executable)\n",
    "sys.path.append(\"/Users/salmazainana/umr-visualizer\")\n"
   ]
  },
  {
   "cell_type": "code",
   "execution_count": 6,
   "metadata": {},
   "outputs": [],
   "source": [
    "import umr_visualizer as uv\n",
    "import pandas as pd\n",
    "import numpy as np  \n",
    "import matplotlib.pyplot as plt\n",
    "import seaborn as sns\n"
   ]
  },
  {
   "cell_type": "markdown",
   "metadata": {},
   "source": [
    "# The dataset on the KCNK6 pheno 30680 gene (LDL description)"
   ]
  },
  {
   "cell_type": "markdown",
   "metadata": {},
   "source": [
    "### Load data set "
   ]
  },
  {
   "cell_type": "code",
   "execution_count": 67,
   "metadata": {},
   "outputs": [
    {
     "name": "stderr",
     "output_type": "stream",
     "text": [
      "/var/folders/th/syv18z517n5cjstlw_sv7hz00000gn/T/ipykernel_55924/1615998994.py:12: DtypeWarning:\n",
      "\n",
      "Columns (12) have mixed types. Specify dtype option on import or set low_memory=False.\n",
      "\n"
     ]
    },
    {
     "data": {
      "text/html": [
       "<div>\n",
       "<style scoped>\n",
       "    .dataframe tbody tr th:only-of-type {\n",
       "        vertical-align: middle;\n",
       "    }\n",
       "\n",
       "    .dataframe tbody tr th {\n",
       "        vertical-align: top;\n",
       "    }\n",
       "\n",
       "    .dataframe thead th {\n",
       "        text-align: right;\n",
       "    }\n",
       "</style>\n",
       "<table border=\"1\" class=\"dataframe\">\n",
       "  <thead>\n",
       "    <tr style=\"text-align: right;\">\n",
       "      <th></th>\n",
       "      <th>locus</th>\n",
       "      <th>alleles</th>\n",
       "      <th>markerID</th>\n",
       "      <th>gene</th>\n",
       "      <th>annotation</th>\n",
       "      <th>call_stats</th>\n",
       "      <th>n_cases</th>\n",
       "      <th>n_controls</th>\n",
       "      <th>heritability</th>\n",
       "      <th>saige_version</th>\n",
       "      <th>...</th>\n",
       "      <th>AF.Controls</th>\n",
       "      <th>Pvalue</th>\n",
       "      <th>chr</th>\n",
       "      <th>pos</th>\n",
       "      <th>ref</th>\n",
       "      <th>alt</th>\n",
       "      <th>prob_0</th>\n",
       "      <th>am_pathogenicity</th>\n",
       "      <th>pLoF_indicator</th>\n",
       "      <th>missense_indicator</th>\n",
       "    </tr>\n",
       "  </thead>\n",
       "  <tbody>\n",
       "    <tr>\n",
       "      <th>0</th>\n",
       "      <td>chr19:38319956</td>\n",
       "      <td>[\"G\",\"A\"]</td>\n",
       "      <td>chr19:38319956_G/A</td>\n",
       "      <td>KCNK6</td>\n",
       "      <td>synonymous</td>\n",
       "      <td>{\"AC\":51,\"AF\":6.458295870996173E-5,\"AN\":789682...</td>\n",
       "      <td>56050</td>\n",
       "      <td>NaN</td>\n",
       "      <td>0.0</td>\n",
       "      <td>SAIGE_0.44.5</td>\n",
       "      <td>...</td>\n",
       "      <td>NaN</td>\n",
       "      <td>0.323320</td>\n",
       "      <td>chr19</td>\n",
       "      <td>38319956</td>\n",
       "      <td>G</td>\n",
       "      <td>A</td>\n",
       "      <td>NaN</td>\n",
       "      <td>NaN</td>\n",
       "      <td>0</td>\n",
       "      <td>0</td>\n",
       "    </tr>\n",
       "    <tr>\n",
       "      <th>1</th>\n",
       "      <td>chr19:38319980</td>\n",
       "      <td>[\"C\",\"T\"]</td>\n",
       "      <td>chr19:38319980_C/T</td>\n",
       "      <td>KCNK6</td>\n",
       "      <td>synonymous</td>\n",
       "      <td>{\"AC\":3,\"AF\":3.7989975711742196E-6,\"AN\":789682...</td>\n",
       "      <td>56050</td>\n",
       "      <td>NaN</td>\n",
       "      <td>0.0</td>\n",
       "      <td>SAIGE_0.44.5</td>\n",
       "      <td>...</td>\n",
       "      <td>NaN</td>\n",
       "      <td>0.081197</td>\n",
       "      <td>chr19</td>\n",
       "      <td>38319980</td>\n",
       "      <td>C</td>\n",
       "      <td>T</td>\n",
       "      <td>NaN</td>\n",
       "      <td>NaN</td>\n",
       "      <td>0</td>\n",
       "      <td>0</td>\n",
       "    </tr>\n",
       "    <tr>\n",
       "      <th>2</th>\n",
       "      <td>chr19:38319991</td>\n",
       "      <td>[\"A\",\"T\"]</td>\n",
       "      <td>chr19:38319991_A/T</td>\n",
       "      <td>KCNK6</td>\n",
       "      <td>missense</td>\n",
       "      <td>{\"AC\":42,\"AF\":5.318717834420716E-5,\"AN\":789664...</td>\n",
       "      <td>56050</td>\n",
       "      <td>NaN</td>\n",
       "      <td>0.0</td>\n",
       "      <td>SAIGE_0.44.5</td>\n",
       "      <td>...</td>\n",
       "      <td>NaN</td>\n",
       "      <td>0.755360</td>\n",
       "      <td>chr19</td>\n",
       "      <td>38319991</td>\n",
       "      <td>A</td>\n",
       "      <td>T</td>\n",
       "      <td>NaN</td>\n",
       "      <td>0.1247</td>\n",
       "      <td>0</td>\n",
       "      <td>1</td>\n",
       "    </tr>\n",
       "    <tr>\n",
       "      <th>3</th>\n",
       "      <td>chr19:38320009</td>\n",
       "      <td>[\"T\",\"TGGGCGCGCTGTTGG\"]</td>\n",
       "      <td>chr19:38320009_T/TGGGCGCGCTGTTGG</td>\n",
       "      <td>KCNK6</td>\n",
       "      <td>pLoF</td>\n",
       "      <td>{\"AC\":260,\"AF\":3.2924645616843234E-4,\"AN\":7896...</td>\n",
       "      <td>56050</td>\n",
       "      <td>NaN</td>\n",
       "      <td>0.0</td>\n",
       "      <td>SAIGE_0.44.5</td>\n",
       "      <td>...</td>\n",
       "      <td>NaN</td>\n",
       "      <td>0.536840</td>\n",
       "      <td>chr19</td>\n",
       "      <td>38320009</td>\n",
       "      <td>T</td>\n",
       "      <td>TGGGCGCGCTGTTGG</td>\n",
       "      <td>NaN</td>\n",
       "      <td>NaN</td>\n",
       "      <td>1</td>\n",
       "      <td>0</td>\n",
       "    </tr>\n",
       "    <tr>\n",
       "      <th>4</th>\n",
       "      <td>chr19:38320030</td>\n",
       "      <td>[\"G\",\"T\"]</td>\n",
       "      <td>chr19:38320030_G/T</td>\n",
       "      <td>KCNK6</td>\n",
       "      <td>missense</td>\n",
       "      <td>{\"AC\":3,\"AF\":3.7990168144484207E-6,\"AN\":789678...</td>\n",
       "      <td>56050</td>\n",
       "      <td>NaN</td>\n",
       "      <td>0.0</td>\n",
       "      <td>SAIGE_0.44.5</td>\n",
       "      <td>...</td>\n",
       "      <td>NaN</td>\n",
       "      <td>0.690820</td>\n",
       "      <td>chr19</td>\n",
       "      <td>38320030</td>\n",
       "      <td>G</td>\n",
       "      <td>T</td>\n",
       "      <td>NaN</td>\n",
       "      <td>0.1103</td>\n",
       "      <td>0</td>\n",
       "      <td>1</td>\n",
       "    </tr>\n",
       "  </tbody>\n",
       "</table>\n",
       "<p>5 rows × 39 columns</p>\n",
       "</div>"
      ],
      "text/plain": [
       "            locus                  alleles                          markerID  \\\n",
       "0  chr19:38319956                [\"G\",\"A\"]                chr19:38319956_G/A   \n",
       "1  chr19:38319980                [\"C\",\"T\"]                chr19:38319980_C/T   \n",
       "2  chr19:38319991                [\"A\",\"T\"]                chr19:38319991_A/T   \n",
       "3  chr19:38320009  [\"T\",\"TGGGCGCGCTGTTGG\"]  chr19:38320009_T/TGGGCGCGCTGTTGG   \n",
       "4  chr19:38320030                [\"G\",\"T\"]                chr19:38320030_G/T   \n",
       "\n",
       "    gene  annotation                                         call_stats  \\\n",
       "0  KCNK6  synonymous  {\"AC\":51,\"AF\":6.458295870996173E-5,\"AN\":789682...   \n",
       "1  KCNK6  synonymous  {\"AC\":3,\"AF\":3.7989975711742196E-6,\"AN\":789682...   \n",
       "2  KCNK6    missense  {\"AC\":42,\"AF\":5.318717834420716E-5,\"AN\":789664...   \n",
       "3  KCNK6        pLoF  {\"AC\":260,\"AF\":3.2924645616843234E-4,\"AN\":7896...   \n",
       "4  KCNK6    missense  {\"AC\":3,\"AF\":3.7990168144484207E-6,\"AN\":789678...   \n",
       "\n",
       "   n_cases  n_controls  heritability saige_version  ...  AF.Controls  \\\n",
       "0    56050         NaN           0.0  SAIGE_0.44.5  ...          NaN   \n",
       "1    56050         NaN           0.0  SAIGE_0.44.5  ...          NaN   \n",
       "2    56050         NaN           0.0  SAIGE_0.44.5  ...          NaN   \n",
       "3    56050         NaN           0.0  SAIGE_0.44.5  ...          NaN   \n",
       "4    56050         NaN           0.0  SAIGE_0.44.5  ...          NaN   \n",
       "\n",
       "     Pvalue    chr       pos  ref              alt  prob_0  am_pathogenicity  \\\n",
       "0  0.323320  chr19  38319956    G                A     NaN               NaN   \n",
       "1  0.081197  chr19  38319980    C                T     NaN               NaN   \n",
       "2  0.755360  chr19  38319991    A                T     NaN            0.1247   \n",
       "3  0.536840  chr19  38320009    T  TGGGCGCGCTGTTGG     NaN               NaN   \n",
       "4  0.690820  chr19  38320030    G                T     NaN            0.1103   \n",
       "\n",
       "   pLoF_indicator  missense_indicator  \n",
       "0               0                   0  \n",
       "1               0                   0  \n",
       "2               0                   1  \n",
       "3               1                   0  \n",
       "4               0                   1  \n",
       "\n",
       "[5 rows x 39 columns]"
      ]
     },
     "execution_count": 67,
     "metadata": {},
     "output_type": "execute_result"
    }
   ],
   "source": [
    "file_path = \"/Users/salmazainana/Documents/Rivas/Dataset/filtered_KCNK6_data.tsv\"\n",
    "correct_columns = [\n",
    "    \"locus\", \"alleles\", \"markerID\", \"gene\", \"annotation\", \"call_stats\", \"n_cases\",\n",
    "    \"n_controls\", \"heritability\", \"saige_version\", \"inv_normalized\", \"trait_type\",\n",
    "    \"phenocode\", \"pheno_sex\", \"coding\", \"modifier\", \"n_cases_defined\", \n",
    "    \"n_cases_both_sexes\", \"n_cases_females\", \"n_cases_males\", \"description\", \n",
    "    \"description_more\", \"coding_description\", \"category\", \"AC\", \"AF\", \"BETA\", \n",
    "    \"SE\", \"AF.Cases\", \"AF.Controls\", \"Pvalue\", \"chr\", \"pos\", \"ref\", \"alt\", \n",
    "    \"prob_0\", \"am_pathogenicity\", \"pLoF_indicator\", \"missense_indicator\"\n",
    "]\n",
    "\n",
    "df = pd.read_csv(file_path, sep=\"\\t\", skiprows=1, names=correct_columns)\n",
    "df.head()\n",
    "\n",
    "\n"
   ]
  },
  {
   "cell_type": "code",
   "execution_count": 68,
   "metadata": {},
   "outputs": [
    {
     "data": {
      "text/plain": [
       "(101540, 39)"
      ]
     },
     "execution_count": 68,
     "metadata": {},
     "output_type": "execute_result"
    }
   ],
   "source": [
    "# Dataset size\n",
    "df.shape"
   ]
  },
  {
   "cell_type": "code",
   "execution_count": 69,
   "metadata": {},
   "outputs": [
    {
     "data": {
      "text/plain": [
       "291"
      ]
     },
     "execution_count": 69,
     "metadata": {},
     "output_type": "execute_result"
    }
   ],
   "source": [
    "len(df[df[\"phenocode\"] == 30680])\n"
   ]
  },
  {
   "cell_type": "code",
   "execution_count": 70,
   "metadata": {},
   "outputs": [
    {
     "data": {
      "text/html": [
       "<div>\n",
       "<style scoped>\n",
       "    .dataframe tbody tr th:only-of-type {\n",
       "        vertical-align: middle;\n",
       "    }\n",
       "\n",
       "    .dataframe tbody tr th {\n",
       "        vertical-align: top;\n",
       "    }\n",
       "\n",
       "    .dataframe thead th {\n",
       "        text-align: right;\n",
       "    }\n",
       "</style>\n",
       "<table border=\"1\" class=\"dataframe\">\n",
       "  <thead>\n",
       "    <tr style=\"text-align: right;\">\n",
       "      <th></th>\n",
       "      <th>gene</th>\n",
       "      <th>BETA</th>\n",
       "      <th>SE</th>\n",
       "      <th>prob_0</th>\n",
       "      <th>am_pathogenicity</th>\n",
       "      <th>pLoF_indicator</th>\n",
       "      <th>missense_indicator</th>\n",
       "    </tr>\n",
       "  </thead>\n",
       "  <tbody>\n",
       "    <tr>\n",
       "      <th>0</th>\n",
       "      <td>KCNK6</td>\n",
       "      <td>-0.619030</td>\n",
       "      <td>0.68271</td>\n",
       "      <td>NaN</td>\n",
       "      <td>NaN</td>\n",
       "      <td>0</td>\n",
       "      <td>1</td>\n",
       "    </tr>\n",
       "    <tr>\n",
       "      <th>1</th>\n",
       "      <td>KCNK6</td>\n",
       "      <td>0.091654</td>\n",
       "      <td>0.55743</td>\n",
       "      <td>NaN</td>\n",
       "      <td>0.1126</td>\n",
       "      <td>0</td>\n",
       "      <td>1</td>\n",
       "    </tr>\n",
       "    <tr>\n",
       "      <th>2</th>\n",
       "      <td>KCNK6</td>\n",
       "      <td>-0.115640</td>\n",
       "      <td>0.14084</td>\n",
       "      <td>NaN</td>\n",
       "      <td>NaN</td>\n",
       "      <td>0</td>\n",
       "      <td>0</td>\n",
       "    </tr>\n",
       "    <tr>\n",
       "      <th>3</th>\n",
       "      <td>KCNK6</td>\n",
       "      <td>-0.743000</td>\n",
       "      <td>0.96548</td>\n",
       "      <td>NaN</td>\n",
       "      <td>0.1517</td>\n",
       "      <td>0</td>\n",
       "      <td>1</td>\n",
       "    </tr>\n",
       "    <tr>\n",
       "      <th>4</th>\n",
       "      <td>KCNK6</td>\n",
       "      <td>-0.001520</td>\n",
       "      <td>0.43178</td>\n",
       "      <td>NaN</td>\n",
       "      <td>0.1177</td>\n",
       "      <td>0</td>\n",
       "      <td>1</td>\n",
       "    </tr>\n",
       "  </tbody>\n",
       "</table>\n",
       "</div>"
      ],
      "text/plain": [
       "    gene      BETA       SE  prob_0  am_pathogenicity  pLoF_indicator  \\\n",
       "0  KCNK6 -0.619030  0.68271     NaN               NaN               0   \n",
       "1  KCNK6  0.091654  0.55743     NaN            0.1126               0   \n",
       "2  KCNK6 -0.115640  0.14084     NaN               NaN               0   \n",
       "3  KCNK6 -0.743000  0.96548     NaN            0.1517               0   \n",
       "4  KCNK6 -0.001520  0.43178     NaN            0.1177               0   \n",
       "\n",
       "   missense_indicator  \n",
       "0                   1  \n",
       "1                   1  \n",
       "2                   0  \n",
       "3                   1  \n",
       "4                   1  "
      ]
     },
     "execution_count": 70,
     "metadata": {},
     "output_type": "execute_result"
    }
   ],
   "source": [
    "# Keep rows with phenocode = 30680\n",
    "\n",
    "df = df[df[\"phenocode\"] == 30680]\n",
    "\n",
    "columns_to_keep = [\"gene\", \"BETA\", \"SE\", \"prob_0\", \"am_pathogenicity\", \"pLoF_indicator\", \"missense_indicator\"]\n",
    "\n",
    "# Keep only these columns\n",
    "df_filtered = df[columns_to_keep]\n",
    "df_filtered.head()\n",
    "\n",
    "# Save the filtered DataFrame\n",
    "output_file_path = \"/Users/salmazainana/Documents/Rivas/Dataset/cleaned_KCNK6_data.tsv\"\n",
    "df_filtered.to_csv(output_file_path, sep=\"\\t\", index=False)\n",
    "df = pd.read_csv(output_file_path, sep=\"\\t\")\n",
    "df.head()\n",
    "\n",
    "\n"
   ]
  },
  {
   "cell_type": "code",
   "execution_count": 71,
   "metadata": {},
   "outputs": [
    {
     "name": "stdout",
     "output_type": "stream",
     "text": [
      "Number of examples: 291\n"
     ]
    }
   ],
   "source": [
    "#print number of examples\n",
    "print(f\"Number of examples: {df.shape[0]}\")"
   ]
  },
  {
   "cell_type": "code",
   "execution_count": 72,
   "metadata": {},
   "outputs": [
    {
     "name": "stdout",
     "output_type": "stream",
     "text": [
      "gene                    1\n",
      "BETA                  288\n",
      "SE                     91\n",
      "prob_0                228\n",
      "am_pathogenicity      168\n",
      "pLoF_indicator          2\n",
      "missense_indicator      2\n",
      "dtype: int64\n"
     ]
    }
   ],
   "source": [
    "print(df.nunique())"
   ]
  },
  {
   "cell_type": "code",
   "execution_count": 73,
   "metadata": {},
   "outputs": [
    {
     "data": {
      "text/plain": [
       "gene                    0\n",
       "BETA                    0\n",
       "SE                      0\n",
       "prob_0                 23\n",
       "am_pathogenicity      114\n",
       "pLoF_indicator          0\n",
       "missense_indicator      0\n",
       "dtype: int64"
      ]
     },
     "execution_count": 73,
     "metadata": {},
     "output_type": "execute_result"
    }
   ],
   "source": [
    "\n",
    "# Check if there are NaNs in any columns \n",
    "df.isnull().sum()\n",
    "\n"
   ]
  },
  {
   "cell_type": "code",
   "execution_count": 74,
   "metadata": {},
   "outputs": [],
   "source": [
    "# # fill the Nan Values with average of the column for prob_0 and am+pathogenicity\n",
    "# df[\"prob_0\"] = df[\"prob_0\"].fillna(df[\"prob_0\"].mean())\n",
    "# df[\"am_pathogenicity\"] = df[\"am_pathogenicity\"].fillna(df[\"am_pathogenicity\"].mean())\n",
    "# df.isnull().sum()\n",
    "\n",
    "# Drop rows with NaN values\n",
    "# df = df.dropna()\n",
    "# df.isnull().sum()\n",
    "\n",
    "\n",
    "# We can't drop them because we will lose a the variety in the two last columns \n",
    "# instead we can fill them with the mean of the column\n",
    "df[\"prob_0\"] = df[\"prob_0\"].fillna(df[\"prob_0\"].mean())\n",
    "df[\"am_pathogenicity\"] = df[\"am_pathogenicity\"].fillna(df[\"am_pathogenicity\"].mean())\n",
    "\n"
   ]
  },
  {
   "cell_type": "code",
   "execution_count": 75,
   "metadata": {},
   "outputs": [
    {
     "data": {
      "text/plain": [
       "gene                  0\n",
       "BETA                  0\n",
       "SE                    0\n",
       "prob_0                0\n",
       "am_pathogenicity      0\n",
       "pLoF_indicator        0\n",
       "missense_indicator    0\n",
       "dtype: int64"
      ]
     },
     "execution_count": 75,
     "metadata": {},
     "output_type": "execute_result"
    }
   ],
   "source": [
    "df.isnull().sum()"
   ]
  },
  {
   "cell_type": "code",
   "execution_count": 76,
   "metadata": {},
   "outputs": [
    {
     "name": "stdout",
     "output_type": "stream",
     "text": [
      "Number of examples: 291\n"
     ]
    }
   ],
   "source": [
    "print(f\"Number of examples: {df.shape[0]}\")"
   ]
  },
  {
   "cell_type": "code",
   "execution_count": 77,
   "metadata": {},
   "outputs": [
    {
     "name": "stdout",
     "output_type": "stream",
     "text": [
      "gene                    1\n",
      "BETA                  288\n",
      "SE                     91\n",
      "prob_0                229\n",
      "am_pathogenicity      169\n",
      "pLoF_indicator          2\n",
      "missense_indicator      2\n",
      "dtype: int64\n"
     ]
    }
   ],
   "source": [
    "print(df.nunique()) # to make sure no constant columns"
   ]
  },
  {
   "cell_type": "markdown",
   "metadata": {},
   "source": [
    "### Preprocessing "
   ]
  },
  {
   "cell_type": "code",
   "execution_count": 78,
   "metadata": {},
   "outputs": [
    {
     "data": {
      "text/html": [
       "<div>\n",
       "<style scoped>\n",
       "    .dataframe tbody tr th:only-of-type {\n",
       "        vertical-align: middle;\n",
       "    }\n",
       "\n",
       "    .dataframe tbody tr th {\n",
       "        vertical-align: top;\n",
       "    }\n",
       "\n",
       "    .dataframe thead th {\n",
       "        text-align: right;\n",
       "    }\n",
       "</style>\n",
       "<table border=\"1\" class=\"dataframe\">\n",
       "  <thead>\n",
       "    <tr style=\"text-align: right;\">\n",
       "      <th></th>\n",
       "      <th>gene</th>\n",
       "      <th>BETA</th>\n",
       "      <th>SE</th>\n",
       "      <th>prob_0</th>\n",
       "      <th>am_pathogenicity</th>\n",
       "      <th>pLoF_indicator</th>\n",
       "      <th>missense_indicator</th>\n",
       "    </tr>\n",
       "  </thead>\n",
       "  <tbody>\n",
       "    <tr>\n",
       "      <th>0</th>\n",
       "      <td>KCNK6</td>\n",
       "      <td>-0.619030</td>\n",
       "      <td>0.68271</td>\n",
       "      <td>0.005094</td>\n",
       "      <td>0.259205</td>\n",
       "      <td>0</td>\n",
       "      <td>1</td>\n",
       "    </tr>\n",
       "    <tr>\n",
       "      <th>1</th>\n",
       "      <td>KCNK6</td>\n",
       "      <td>0.091654</td>\n",
       "      <td>0.55743</td>\n",
       "      <td>0.005094</td>\n",
       "      <td>0.112600</td>\n",
       "      <td>0</td>\n",
       "      <td>1</td>\n",
       "    </tr>\n",
       "    <tr>\n",
       "      <th>2</th>\n",
       "      <td>KCNK6</td>\n",
       "      <td>-0.115640</td>\n",
       "      <td>0.14084</td>\n",
       "      <td>0.005094</td>\n",
       "      <td>0.259205</td>\n",
       "      <td>0</td>\n",
       "      <td>0</td>\n",
       "    </tr>\n",
       "    <tr>\n",
       "      <th>3</th>\n",
       "      <td>KCNK6</td>\n",
       "      <td>-0.743000</td>\n",
       "      <td>0.96548</td>\n",
       "      <td>0.005094</td>\n",
       "      <td>0.151700</td>\n",
       "      <td>0</td>\n",
       "      <td>1</td>\n",
       "    </tr>\n",
       "    <tr>\n",
       "      <th>4</th>\n",
       "      <td>KCNK6</td>\n",
       "      <td>-0.001520</td>\n",
       "      <td>0.43178</td>\n",
       "      <td>0.005094</td>\n",
       "      <td>0.117700</td>\n",
       "      <td>0</td>\n",
       "      <td>1</td>\n",
       "    </tr>\n",
       "  </tbody>\n",
       "</table>\n",
       "</div>"
      ],
      "text/plain": [
       "    gene      BETA       SE    prob_0  am_pathogenicity  pLoF_indicator  \\\n",
       "0  KCNK6 -0.619030  0.68271  0.005094          0.259205               0   \n",
       "1  KCNK6  0.091654  0.55743  0.005094          0.112600               0   \n",
       "2  KCNK6 -0.115640  0.14084  0.005094          0.259205               0   \n",
       "3  KCNK6 -0.743000  0.96548  0.005094          0.151700               0   \n",
       "4  KCNK6 -0.001520  0.43178  0.005094          0.117700               0   \n",
       "\n",
       "   missense_indicator  \n",
       "0                   1  \n",
       "1                   1  \n",
       "2                   0  \n",
       "3                   1  \n",
       "4                   1  "
      ]
     },
     "execution_count": 78,
     "metadata": {},
     "output_type": "execute_result"
    }
   ],
   "source": [
    "df.head()"
   ]
  },
  {
   "cell_type": "code",
   "execution_count": 79,
   "metadata": {},
   "outputs": [
    {
     "name": "stdout",
     "output_type": "stream",
     "text": [
      "SE min: 0.0030202\n",
      "SE max: 0.96562\n"
     ]
    }
   ],
   "source": [
    "print(\"SE min:\", np.min(df[\"SE\"]))\n",
    "print(\"SE max:\", np.max(df[\"SE\"]))"
   ]
  },
  {
   "cell_type": "code",
   "execution_count": 80,
   "metadata": {},
   "outputs": [
    {
     "data": {
      "image/png": "[encoded data removed]",
      "text/plain": [
       "<Figure size 800x500 with 1 Axes>"
      ]
     },
     "metadata": {},
     "output_type": "display_data"
    }
   ],
   "source": [
    "# Assuming SE values are stored in a variable called se_values\n",
    "se_values = df[\"SE\"].values\n",
    "\n",
    "# Plot histogram of SE values\n",
    "plt.figure(figsize=(8, 5))\n",
    "plt.hist(se_values, bins=50, edgecolor=\"black\", log=True)  # Log scale for better visibility\n",
    "plt.xlabel(\"SE values\")\n",
    "plt.ylabel(\"Frequency (log scale)\")\n",
    "plt.title(\"Distribution of SE values\")\n",
    "plt.show()"
   ]
  },
  {
   "cell_type": "code",
   "execution_count": 81,
   "metadata": {},
   "outputs": [],
   "source": [
    "# Compute IQR\n",
    "Q1 = np.percentile(se_values, 25)\n",
    "Q3 = np.percentile(se_values, 75)\n",
    "IQR = Q3 - Q1\n",
    "\n",
    "# Define outlier thresholds\n",
    "lower_bound = Q1 - 1.5 * IQR\n",
    "upper_bound = Q3 + 1.5 * IQR\n",
    "\n",
    "# Filter out rows where SE is outside the bounds\n",
    "valid_indices = (se_values >= lower_bound) & (se_values <= upper_bound)\n",
    "df_filtered = df[valid_indices]\n"
   ]
  },
  {
   "cell_type": "code",
   "execution_count": 82,
   "metadata": {},
   "outputs": [
    {
     "name": "stdout",
     "output_type": "stream",
     "text": [
      "SE min: 0.0030202\n",
      "SE max: 0.96562\n"
     ]
    }
   ],
   "source": [
    "print(\"SE min:\", np.min(df_filtered[\"SE\"]))\n",
    "print(\"SE max:\", np.max(df_filtered[\"SE\"]))"
   ]
  },
  {
   "cell_type": "code",
   "execution_count": 83,
   "metadata": {},
   "outputs": [
    {
     "name": "stdout",
     "output_type": "stream",
     "text": [
      "Number of examples: 291\n"
     ]
    }
   ],
   "source": [
    "print(f\"Number of examples: {df_filtered.shape[0]}\")"
   ]
  },
  {
   "cell_type": "code",
   "execution_count": 84,
   "metadata": {},
   "outputs": [],
   "source": [
    "# # Clip very small SE values to avoid extreme w values\n",
    "# SE_min_threshold = 1e-2 # Adjust as needed\n",
    "# df_filtered = df_filtered[df_filtered[\"SE\"] >= SE_min_threshold]\n",
    "# print(\"SE min:\", np.min(df_filtered[\"SE\"]))\n",
    "# print(\"SE max:\", np.max(df_filtered[\"SE\"]))\n",
    "# print(f\"Number of examples: {df_filtered.shape[0]}\")"
   ]
  },
  {
   "cell_type": "markdown",
   "metadata": {},
   "source": [
    "## Getting Fitted values"
   ]
  },
  {
   "cell_type": "code",
   "execution_count": 85,
   "metadata": {},
   "outputs": [],
   "source": [
    "X_full = df_filtered[[\"prob_0\", \"am_pathogenicity\", \"pLoF_indicator\", \"missense_indicator\"]].values\n",
    "y = df_filtered['BETA'].values\n",
    "w = 1 / (df_filtered['SE'].values ** 2)\n"
   ]
  },
  {
   "cell_type": "code",
   "execution_count": 86,
   "metadata": {},
   "outputs": [
    {
     "name": "stdout",
     "output_type": "stream",
     "text": [
      "X_full contains NaN: False\n"
     ]
    }
   ],
   "source": [
    "# Does X_full contain any NaN values?\n",
    "print(\"X_full contains NaN:\", np.isnan(X_full).any())"
   ]
  },
  {
   "cell_type": "code",
   "execution_count": 87,
   "metadata": {},
   "outputs": [
    {
     "name": "stdout",
     "output_type": "stream",
     "text": [
      "w contains NaN: False\n",
      "w contains Inf: False\n",
      "w min: 1.0724757853532223\n",
      "w max: 109629.79286270672\n",
      "the shape of w is: (291,)\n"
     ]
    }
   ],
   "source": [
    "print(\"w contains NaN:\", np.isnan(w).any())\n",
    "print(\"w contains Inf:\", np.isinf(w).any())\n",
    "print(\"w min:\", np.min(w))\n",
    "print(\"w max:\", np.max(w))\n",
    "print(\"the shape of w is:\", w.shape)"
   ]
  },
  {
   "cell_type": "code",
   "execution_count": 88,
   "metadata": {},
   "outputs": [
    {
     "name": "stdout",
     "output_type": "stream",
     "text": [
      "Shape of X_full: (291, 4)\n"
     ]
    }
   ],
   "source": [
    "# Print the shape of matrix X_full\n",
    "print(\"Shape of X_full:\", X_full.shape)"
   ]
  },
  {
   "cell_type": "code",
   "execution_count": 89,
   "metadata": {},
   "outputs": [],
   "source": [
    "X_w = X_full.T * w\n",
    "tmp = X_w @ X_full# Equivalent to X_full.T @ np.diag(w) @ X_full"
   ]
  },
  {
   "cell_type": "code",
   "execution_count": 90,
   "metadata": {},
   "outputs": [
    {
     "name": "stdout",
     "output_type": "stream",
     "text": [
      "Determinant: 8551311048071.711\n",
      "Rank: 4 / 4\n"
     ]
    }
   ],
   "source": [
    "\n",
    "print(\"Determinant:\", np.linalg.det(tmp))\n",
    "print(\"Rank:\", np.linalg.matrix_rank(tmp), \"/\", tmp.shape[0])"
   ]
  },
  {
   "cell_type": "code",
   "execution_count": 91,
   "metadata": {},
   "outputs": [],
   "source": [
    "matrix_to_invert = np.linalg.pinv(tmp) \n"
   ]
  },
  {
   "cell_type": "code",
   "execution_count": 92,
   "metadata": {},
   "outputs": [],
   "source": [
    "beta_full = matrix_to_invert @ (X_w @ y)\n"
   ]
  },
  {
   "cell_type": "code",
   "execution_count": 93,
   "metadata": {},
   "outputs": [],
   "source": [
    "\n",
    "fitted_values_full = np.dot(X_full, beta_full)\n"
   ]
  },
  {
   "cell_type": "code",
   "execution_count": 94,
   "metadata": {},
   "outputs": [
    {
     "name": "stdout",
     "output_type": "stream",
     "text": [
      "Correlation Matrix:\n",
      "          0             1             2             3\n",
      "0  1.000000  5.026081e-02  1.879281e-02 -5.757537e-02\n",
      "1  0.050261  1.000000e+00 -9.376585e-18 -1.925302e-17\n",
      "2  0.018793 -9.376585e-18  1.000000e+00 -3.484763e-01\n",
      "3 -0.057575 -1.925302e-17 -3.484763e-01  1.000000e+00\n"
     ]
    }
   ],
   "source": [
    "corr_matrix = pd.DataFrame(X_full).corr()\n",
    "print(\"Correlation Matrix:\")\n",
    "print(corr_matrix)"
   ]
  },
  {
   "cell_type": "code",
   "execution_count": 95,
   "metadata": {},
   "outputs": [
    {
     "name": "stdout",
     "output_type": "stream",
     "text": [
      "0    229\n",
      "1    169\n",
      "2      2\n",
      "3      2\n",
      "dtype: int64\n"
     ]
    }
   ],
   "source": [
    "print(pd.DataFrame(X_full).nunique())"
   ]
  },
  {
   "cell_type": "markdown",
   "metadata": {},
   "source": [
    "# Testing functions"
   ]
  },
  {
   "cell_type": "code",
   "execution_count": 96,
   "metadata": {},
   "outputs": [],
   "source": [
    "import statsmodels.api as sm\n",
    "X = df_filtered[[\"prob_0\", \"am_pathogenicity\", \"pLoF_indicator\", \"missense_indicator\"]].values\n",
    "y = df_filtered['BETA'].values\n",
    "w = 1 / (df_filtered['SE'].values ** 2)"
   ]
  },
  {
   "cell_type": "markdown",
   "metadata": {},
   "source": [
    "### Testing SSR:\n",
    "\n",
    "SSR = sum wi(beta_i - predicted_beta_i)"
   ]
  },
  {
   "cell_type": "code",
   "execution_count": 97,
   "metadata": {},
   "outputs": [
    {
     "data": {
      "text/plain": [
       "np.float64(449.5294078798596)"
      ]
     },
     "execution_count": 97,
     "metadata": {},
     "output_type": "execute_result"
    }
   ],
   "source": [
    "uv.ssr_mod_all(df_filtered, fitted_values_full)"
   ]
  },
  {
   "cell_type": "code",
   "execution_count": 98,
   "metadata": {},
   "outputs": [
    {
     "name": "stdout",
     "output_type": "stream",
     "text": [
      "SSR_full (from statsmodels): 449.5294078798596\n"
     ]
    }
   ],
   "source": [
    "# Fit WLS model\n",
    "model = sm.WLS(y, X, weights=w).fit()\n",
    "\n",
    "fitted_vals = model.fittedvalues  # This is X * Bhat\n",
    "residuals = model.resid          # y_i - fitted_vals\n",
    "\n",
    "# Weighted residual sum of squares, i.e. SSR_full\n",
    "ssr_full_sm = np.sum(w * residuals**2)\n",
    "r2_total = model.rsquared\n",
    "print(\"SSR_full (from statsmodels):\", ssr_full_sm)"
   ]
  },
  {
   "cell_type": "markdown",
   "metadata": {},
   "source": [
    "### Testing SST:\n",
    "\n",
    "SST = sum wi(beta_i - beta_i_bar)  with beta_i_bar = sum wiyi / sum wi\n"
   ]
  },
  {
   "cell_type": "code",
   "execution_count": 99,
   "metadata": {},
   "outputs": [
    {
     "data": {
      "text/plain": [
       "np.float64(471.72055515586567)"
      ]
     },
     "execution_count": 99,
     "metadata": {},
     "output_type": "execute_result"
    }
   ],
   "source": [
    "uv.sst_all(df_filtered)"
   ]
  },
  {
   "cell_type": "code",
   "execution_count": 100,
   "metadata": {},
   "outputs": [
    {
     "name": "stdout",
     "output_type": "stream",
     "text": [
      "SST (from statsmodels): 471.72055515586567\n"
     ]
    }
   ],
   "source": [
    "# Weighted mean of y\n",
    "y_w = np.sum(w * y) / np.sum(w)\n",
    "\n",
    "# Weighted total sum of squares, i.e. SST\n",
    "sst_sm = np.sum(w * (y - y_w)**2)\n",
    "print(\"SST (from statsmodels):\", sst_sm)"
   ]
  },
  {
   "cell_type": "markdown",
   "metadata": {},
   "source": [
    "### Testing R2 total"
   ]
  },
  {
   "cell_type": "code",
   "execution_count": 101,
   "metadata": {},
   "outputs": [
    {
     "name": "stdout",
     "output_type": "stream",
     "text": [
      "0.0470429940638768\n"
     ]
    }
   ],
   "source": [
    "r = 1 - uv.ssr_mod_all(df_filtered, fitted_values_full)/uv.sst_all(df_filtered)\n",
    "print(r)"
   ]
  },
  {
   "cell_type": "code",
   "execution_count": 102,
   "metadata": {},
   "outputs": [
    {
     "name": "stdout",
     "output_type": "stream",
     "text": [
      "R^2 (from statsmodels): 0.0470429940638768\n"
     ]
    }
   ],
   "source": [
    "r2 = 1 - ssr_full_sm / sst_sm\n",
    "print(\"R^2 (from statsmodels):\", r2)"
   ]
  },
  {
   "cell_type": "code",
   "execution_count": 103,
   "metadata": {},
   "outputs": [
    {
     "name": "stdout",
     "output_type": "stream",
     "text": [
      "R2_total (from statsmodels): 0.16604034630072118\n"
     ]
    }
   ],
   "source": [
    "print(\"R2_total (from statsmodels):\", r2_total)"
   ]
  },
  {
   "cell_type": "markdown",
   "metadata": {},
   "source": [
    "\n",
    "\n",
    "### Testing SSR_reduced_j:\n"
   ]
  },
  {
   "cell_type": "code",
   "execution_count": 104,
   "metadata": {},
   "outputs": [
    {
     "name": "stdout",
     "output_type": "stream",
     "text": [
      "\n",
      "\n",
      " For reduced model:  prob_0\n",
      " SSR reduced is : 461.5607530143726\n",
      "\n",
      "\n",
      " For reduced model:  am_pathogenicity\n",
      " SSR reduced is : 458.9088964625057\n",
      "\n",
      "\n",
      " For reduced model:  pLoF_indicator\n",
      " SSR reduced is : 451.50773353325883\n",
      "\n",
      "\n",
      " For reduced model:  missense_indicator\n",
      " SSR reduced is : 499.56621889470944\n"
     ]
    }
   ],
   "source": [
    "for mod in [\"prob_0\", \"am_pathogenicity\", \"pLoF_indicator\", \"missense_indicator\"]:\n",
    "    print(\"\\n\")\n",
    "    print(\" For reduced model: \", mod)\n",
    "    print(\" SSR reduced is :\",     uv.ssr_mod_reduced(df_filtered, fitted_values_full, mod))"
   ]
  },
  {
   "cell_type": "code",
   "execution_count": 105,
   "metadata": {},
   "outputs": [
    {
     "name": "stdout",
     "output_type": "stream",
     "text": [
      "\n",
      "\n",
      " For reduced model:  prob_0\n",
      "SSR_full (from statsmodels): 461.5607530143726\n",
      "\n",
      "\n",
      " For reduced model:  am_pathogenicity\n",
      "SSR_full (from statsmodels): 458.90889646250577\n",
      "\n",
      "\n",
      " For reduced model:  pLoF_indicator\n",
      "SSR_full (from statsmodels): 451.50773353325883\n",
      "\n",
      "\n",
      " For reduced model:  missense_indicator\n",
      "SSR_full (from statsmodels): 499.5662188947095\n"
     ]
    }
   ],
   "source": [
    "for mod in [\"prob_0\", \"am_pathogenicity\", \"pLoF_indicator\", \"missense_indicator\"]:\n",
    "    print(\"\\n\")\n",
    "    print(\" For reduced model: \", mod)\n",
    "    X_temp = df_filtered[[\"prob_0\", \"am_pathogenicity\", \"pLoF_indicator\", \"missense_indicator\"]].drop(mod, axis=1)\n",
    "    y = df_filtered['BETA']\n",
    "    w = 1 / (df_filtered['SE'].values ** 2)\n",
    "    reduced_model = sm.WLS(y, X_temp, weights=w).fit()\n",
    "    fitted_vals = reduced_model.fittedvalues  \n",
    "    residuals = reduced_model.resid          \n",
    "    ssr_red_sm = np.sum(w * residuals**2)\n",
    "    print(\"SSR_full (from statsmodels):\", ssr_red_sm)\n",
    "\n"
   ]
  },
  {
   "cell_type": "markdown",
   "metadata": {},
   "source": [
    "\n",
    "\n",
    "### Testing R^2_j:\n",
    "\n",
    "R^2_j = (SSR_red_j - SSR_full )/SSR_red_j\n"
   ]
  },
  {
   "cell_type": "code",
   "execution_count": 106,
   "metadata": {},
   "outputs": [
    {
     "name": "stdout",
     "output_type": "stream",
     "text": [
      "\n",
      "\n",
      " For reduced model:  prob_0\n",
      "    gene  Proportion_Variance_Explained  R_squared_reduced\n",
      "0  KCNK6                       0.554103           0.026067\n",
      "\n",
      "\n",
      " For reduced model:  am_pathogenicity\n",
      "    gene  Proportion_Variance_Explained  R_squared_reduced\n",
      "0  KCNK6                       0.434468           0.020439\n",
      "\n",
      "\n",
      " For reduced model:  pLoF_indicator\n",
      "    gene  Proportion_Variance_Explained  R_squared_reduced\n",
      "0  KCNK6                        0.09314           0.004382\n",
      "\n",
      "\n",
      " For reduced model:  missense_indicator\n",
      "    gene  Proportion_Variance_Explained  R_squared_reduced\n",
      "0  KCNK6                       2.129127           0.100161\n"
     ]
    }
   ],
   "source": [
    "for mod in [\"prob_0\", \"am_pathogenicity\", \"pLoF_indicator\", \"missense_indicator\"]:\n",
    "    print(\"\\n\")\n",
    "    print(\" For reduced model: \", mod)\n",
    "    result = uv.proportion_variance_explained_per_gene(df_filtered, fitted_values_full, mod)\n",
    "    print(result)"
   ]
  },
  {
   "cell_type": "code",
   "execution_count": 107,
   "metadata": {},
   "outputs": [
    {
     "name": "stdout",
     "output_type": "stream",
     "text": [
      "\n",
      "\n",
      " For reduced model:  prob_0\n",
      "R² for reduced model prob_0: 0.0215\n",
      "Partial R² for prob_0: 0.0261\n",
      "Proportion of variance explained by prob_0: 0.5541\n",
      "\n",
      "\n",
      " For reduced model:  am_pathogenicity\n",
      "R² for reduced model am_pathogenicity: 0.0272\n",
      "Partial R² for am_pathogenicity: 0.0204\n",
      "Proportion of variance explained by am_pathogenicity: 0.4345\n",
      "\n",
      "\n",
      " For reduced model:  pLoF_indicator\n",
      "R² for reduced model pLoF_indicator: 0.0428\n",
      "Partial R² for pLoF_indicator: 0.0044\n",
      "Proportion of variance explained by pLoF_indicator: 0.0931\n",
      "\n",
      "\n",
      " For reduced model:  missense_indicator\n",
      "R² for reduced model missense_indicator: -0.0590\n",
      "Partial R² for missense_indicator: 0.1002\n",
      "Proportion of variance explained by missense_indicator: 2.1291\n"
     ]
    }
   ],
   "source": [
    "# R^2 of reduced mod is 1 - (ssr_reduced / sst)\t and means Variance explained without mod1\n",
    "# Partial R² for mod1\t(ssr_reduced - ssr_full) / ssr_reduced\tHow much mod1 improves model fit\n",
    "\n",
    "\n",
    "for mod in [\"prob_0\", \"am_pathogenicity\", \"pLoF_indicator\", \"missense_indicator\"]:\n",
    "    print(\"\\n\")\n",
    "    print(\" For reduced model: \", mod)\n",
    "    X_temp = df_filtered[[\"prob_0\", \"am_pathogenicity\", \"pLoF_indicator\", \"missense_indicator\"]].drop(mod, axis=1)\n",
    "    y = df_filtered['BETA']\n",
    "    w = 1 / (df_filtered['SE'].values ** 2)\n",
    "    reduced_model = sm.WLS(y, X_temp, weights=w).fit()\n",
    "    ssr_reduced = np.sum(w * reduced_model.resid ** 2)\n",
    "\n",
    "    # Partial R² for mod1\n",
    "    r2_red_mod = 1 - ssr_reduced / sst_sm\n",
    "    partial_r2_mod1 = (ssr_reduced - ssr_full_sm) / ssr_reduced\n",
    "    prop = partial_r2_mod1/r2\n",
    "    print(f\"R² for reduced model {mod}: {r2_red_mod:.4f}\")\n",
    "    print(f\"Partial R² for {mod}: {partial_r2_mod1:.4f}\")\n",
    "    print(f\"Proportion of variance explained by {mod}: {prop:.4f}\")"
   ]
  },
  {
   "cell_type": "markdown",
   "metadata": {},
   "source": [
    "## Plotting of filtered data"
   ]
  },
  {
   "cell_type": "code",
   "execution_count": 108,
   "metadata": {},
   "outputs": [],
   "source": [
    "%matplotlib inline\n"
   ]
  },
  {
   "cell_type": "code",
   "execution_count": 109,
   "metadata": {},
   "outputs": [
    {
     "name": "stdout",
     "output_type": "stream",
     "text": [
      "Moderators identified: ['prob_0', 'am_pathogenicity', 'pLoF_indicator', 'missense_indicator']\n",
      "Unique genes found: ['KCNK6']\n",
      "Computing variance explained for moderator: prob_0\n",
      "Computing variance explained for moderator: am_pathogenicity\n",
      "Computing variance explained for moderator: pLoF_indicator\n",
      "Computing variance explained for moderator: missense_indicator\n",
      "Generating plot for gene: KCNK6\n",
      "    gene  Proportion_Variance_Explained  R_squared_reduced\n",
      "0  KCNK6                       0.554103           0.026067\n",
      "    gene  Proportion_Variance_Explained  R_squared_reduced\n",
      "0  KCNK6                       0.434468           0.020439\n",
      "    gene  Proportion_Variance_Explained  R_squared_reduced\n",
      "0  KCNK6                        0.09314           0.004382\n",
      "    gene  Proportion_Variance_Explained  R_squared_reduced\n",
      "0  KCNK6                       2.129127           0.100161\n",
      "Variance data for gene KCNK6: {'prob_0': np.float64(0.5541028160374821), 'am_pathogenicity': np.float64(0.43446793251763577), 'pLoF_indicator': np.float64(0.09314030043725424), 'missense_indicator': np.float64(2.1291271846702933)}\n"
     ]
    },
    {
     "data": {
      "image/png": "[encoded data removed]",
      "text/plain": [
       "<Figure size 1000x600 with 1 Axes>"
      ]
     },
     "metadata": {},
     "output_type": "display_data"
    }
   ],
   "source": [
    "uv.plot_proportion_variance_explained(df_filtered, fitted_values_full, style=\"matplotlib\", gene_filter=[\"KCNK6\"])"
   ]
  },
  {
   "cell_type": "code",
   "execution_count": 110,
   "metadata": {},
   "outputs": [
    {
     "name": "stdout",
     "output_type": "stream",
     "text": [
      "Moderators identified: ['prob_0', 'am_pathogenicity', 'pLoF_indicator', 'missense_indicator']\n",
      "Unique genes found: ['KCNK6']\n",
      "Computing variance explained for moderator: prob_0\n",
      "Computing variance explained for moderator: am_pathogenicity\n",
      "Computing variance explained for moderator: pLoF_indicator\n",
      "Computing variance explained for moderator: missense_indicator\n",
      "Generating plot for gene: KCNK6\n",
      "    gene  Proportion_Variance_Explained  R_squared_reduced\n",
      "0  KCNK6                       0.554103           0.026067\n",
      "    gene  Proportion_Variance_Explained  R_squared_reduced\n",
      "0  KCNK6                       0.434468           0.020439\n",
      "    gene  Proportion_Variance_Explained  R_squared_reduced\n",
      "0  KCNK6                        0.09314           0.004382\n",
      "    gene  Proportion_Variance_Explained  R_squared_reduced\n",
      "0  KCNK6                       2.129127           0.100161\n",
      "Variance data for gene KCNK6: {'prob_0': np.float64(0.5541028160374821), 'am_pathogenicity': np.float64(0.43446793251763577), 'pLoF_indicator': np.float64(0.09314030043725424), 'missense_indicator': np.float64(2.1291271846702933)}\n"
     ]
    },
    {
     "data": {
      "image/png": "[encoded data removed]",
      "text/plain": [
       "<Figure size 1000x600 with 1 Axes>"
      ]
     },
     "metadata": {},
     "output_type": "display_data"
    }
   ],
   "source": [
    "uv.plot_proportion_variance_explained(df_filtered, fitted_values_full, style=\"seaborn\", gene_filter=[\"KCNK6\"])"
   ]
  },
  {
   "cell_type": "code",
   "execution_count": 111,
   "metadata": {},
   "outputs": [
    {
     "name": "stdout",
     "output_type": "stream",
     "text": [
      "Moderators identified: ['prob_0', 'am_pathogenicity', 'pLoF_indicator', 'missense_indicator']\n",
      "Unique genes found: ['KCNK6']\n",
      "Computing variance explained for moderator: prob_0\n",
      "Computing variance explained for moderator: am_pathogenicity\n",
      "Computing variance explained for moderator: pLoF_indicator\n",
      "Computing variance explained for moderator: missense_indicator\n",
      "Generating plot for gene: KCNK6\n",
      "    gene  Proportion_Variance_Explained  R_squared_reduced\n",
      "0  KCNK6                       0.554103           0.026067\n",
      "    gene  Proportion_Variance_Explained  R_squared_reduced\n",
      "0  KCNK6                       0.434468           0.020439\n",
      "    gene  Proportion_Variance_Explained  R_squared_reduced\n",
      "0  KCNK6                        0.09314           0.004382\n",
      "    gene  Proportion_Variance_Explained  R_squared_reduced\n",
      "0  KCNK6                       2.129127           0.100161\n",
      "Variance data for gene KCNK6: {'prob_0': np.float64(0.5541028160374821), 'am_pathogenicity': np.float64(0.43446793251763577), 'pLoF_indicator': np.float64(0.09314030043725424), 'missense_indicator': np.float64(2.1291271846702933)}\n"
     ]
    },
    {
     "data": {
      "application/vnd.plotly.v1+json": {
       "config": {
        "plotlyServerURL": "https://plot.ly"
       },
       "data": [
        {
         "hovertemplate": "Proportion of Variance Explained (%)=%{marker.color}<br>Moderator=%{y}<extra></extra>",
         "legendgroup": "",
         "marker": {
          "color": {
           "bdata": "3x+LG4S0S0D0MnKFMLlFQDiGv4vIoCJAFMtb/TSdakA=",
           "dtype": "f8"
          },
          "coloraxis": "coloraxis",
          "pattern": {
           "shape": ""
          }
         },
         "name": "",
         "orientation": "h",
         "showlegend": false,
         "text": {
          "bdata": "3x+LG4S0S0D0MnKFMLlFQDiGv4vIoCJAFMtb/TSdakA=",
          "dtype": "f8"
         },
         "textposition": "inside",
         "texttemplate": "%{text:.1f}%",
         "type": "bar",
         "x": {
          "bdata": "3x+LG4S0S0D0MnKFMLlFQDiGv4vIoCJAFMtb/TSdakA=",
          "dtype": "f8"
         },
         "xaxis": "x",
         "y": [
          "prob_0",
          "am_pathogenicity",
          "pLoF_indicator",
          "missense_indicator"
         ],
         "yaxis": "y"
        }
       ],
       "layout": {
        "barmode": "relative",
        "coloraxis": {
         "colorbar": {
          "title": {
           "text": "Proportion of Variance Explained (%)"
          }
         },
         "colorscale": [
          [
           0,
           "rgb(247,251,255)"
          ],
          [
           0.125,
           "rgb(222,235,247)"
          ],
          [
           0.25,
           "rgb(198,219,239)"
          ],
          [
           0.375,
           "rgb(158,202,225)"
          ],
          [
           0.5,
           "rgb(107,174,214)"
          ],
          [
           0.625,
           "rgb(66,146,198)"
          ],
          [
           0.75,
           "rgb(33,113,181)"
          ],
          [
           0.875,
           "rgb(8,81,156)"
          ],
          [
           1,
           "rgb(8,48,107)"
          ]
         ],
         "showscale": false
        },
        "legend": {
         "tracegroupgap": 0
        },
        "template": {
         "data": {
          "bar": [
           {
            "error_x": {
             "color": "#2a3f5f"
            },
            "error_y": {
             "color": "#2a3f5f"
            },
            "marker": {
             "line": {
              "color": "white",
              "width": 0.5
             },
             "pattern": {
              "fillmode": "overlay",
              "size": 10,
              "solidity": 0.2
             }
            },
            "type": "bar"
           }
          ],
          "barpolar": [
           {
            "marker": {
             "line": {
              "color": "white",
              "width": 0.5
             },
             "pattern": {
              "fillmode": "overlay",
              "size": 10,
              "solidity": 0.2
             }
            },
            "type": "barpolar"
           }
          ],
          "carpet": [
           {
            "aaxis": {
             "endlinecolor": "#2a3f5f",
             "gridcolor": "#C8D4E3",
             "linecolor": "#C8D4E3",
             "minorgridcolor": "#C8D4E3",
             "startlinecolor": "#2a3f5f"
            },
            "baxis": {
             "endlinecolor": "#2a3f5f",
             "gridcolor": "#C8D4E3",
             "linecolor": "#C8D4E3",
             "minorgridcolor": "#C8D4E3",
             "startlinecolor": "#2a3f5f"
            },
            "type": "carpet"
           }
          ],
          "choropleth": [
           {
            "colorbar": {
             "outlinewidth": 0,
             "ticks": ""
            },
            "type": "choropleth"
           }
          ],
          "contour": [
           {
            "colorbar": {
             "outlinewidth": 0,
             "ticks": ""
            },
            "colorscale": [
             [
              0,
              "#0d0887"
             ],
             [
              0.1111111111111111,
              "#46039f"
             ],
             [
              0.2222222222222222,
              "#7201a8"
             ],
             [
              0.3333333333333333,
              "#9c179e"
             ],
             [
              0.4444444444444444,
              "#bd3786"
             ],
             [
              0.5555555555555556,
              "#d8576b"
             ],
             [
              0.6666666666666666,
              "#ed7953"
             ],
             [
              0.7777777777777778,
              "#fb9f3a"
             ],
             [
              0.8888888888888888,
              "#fdca26"
             ],
             [
              1,
              "#f0f921"
             ]
            ],
            "type": "contour"
           }
          ],
          "contourcarpet": [
           {
            "colorbar": {
             "outlinewidth": 0,
             "ticks": ""
            },
            "type": "contourcarpet"
           }
          ],
          "heatmap": [
           {
            "colorbar": {
             "outlinewidth": 0,
             "ticks": ""
            },
            "colorscale": [
             [
              0,
              "#0d0887"
             ],
             [
              0.1111111111111111,
              "#46039f"
             ],
             [
              0.2222222222222222,
              "#7201a8"
             ],
             [
              0.3333333333333333,
              "#9c179e"
             ],
             [
              0.4444444444444444,
              "#bd3786"
             ],
             [
              0.5555555555555556,
              "#d8576b"
             ],
             [
              0.6666666666666666,
              "#ed7953"
             ],
             [
              0.7777777777777778,
              "#fb9f3a"
             ],
             [
              0.8888888888888888,
              "#fdca26"
             ],
             [
              1,
              "#f0f921"
             ]
            ],
            "type": "heatmap"
           }
          ],
          "histogram": [
           {
            "marker": {
             "pattern": {
              "fillmode": "overlay",
              "size": 10,
              "solidity": 0.2
             }
            },
            "type": "histogram"
           }
          ],
          "histogram2d": [
           {
            "colorbar": {
             "outlinewidth": 0,
             "ticks": ""
            },
            "colorscale": [
             [
              0,
              "#0d0887"
             ],
             [
              0.1111111111111111,
              "#46039f"
             ],
             [
              0.2222222222222222,
              "#7201a8"
             ],
             [
              0.3333333333333333,
              "#9c179e"
             ],
             [
              0.4444444444444444,
              "#bd3786"
             ],
             [
              0.5555555555555556,
              "#d8576b"
             ],
             [
              0.6666666666666666,
              "#ed7953"
             ],
             [
              0.7777777777777778,
              "#fb9f3a"
             ],
             [
              0.8888888888888888,
              "#fdca26"
             ],
             [
              1,
              "#f0f921"
             ]
            ],
            "type": "histogram2d"
           }
          ],
          "histogram2dcontour": [
           {
            "colorbar": {
             "outlinewidth": 0,
             "ticks": ""
            },
            "colorscale": [
             [
              0,
              "#0d0887"
             ],
             [
              0.1111111111111111,
              "#46039f"
             ],
             [
              0.2222222222222222,
              "#7201a8"
             ],
             [
              0.3333333333333333,
              "#9c179e"
             ],
             [
              0.4444444444444444,
              "#bd3786"
             ],
             [
              0.5555555555555556,
              "#d8576b"
             ],
             [
              0.6666666666666666,
              "#ed7953"
             ],
             [
              0.7777777777777778,
              "#fb9f3a"
             ],
             [
              0.8888888888888888,
              "#fdca26"
             ],
             [
              1,
              "#f0f921"
             ]
            ],
            "type": "histogram2dcontour"
           }
          ],
          "mesh3d": [
           {
            "colorbar": {
             "outlinewidth": 0,
             "ticks": ""
            },
            "type": "mesh3d"
           }
          ],
          "parcoords": [
           {
            "line": {
             "colorbar": {
              "outlinewidth": 0,
              "ticks": ""
             }
            },
            "type": "parcoords"
           }
          ],
          "pie": [
           {
            "automargin": true,
            "type": "pie"
           }
          ],
          "scatter": [
           {
            "fillpattern": {
             "fillmode": "overlay",
             "size": 10,
             "solidity": 0.2
            },
            "type": "scatter"
           }
          ],
          "scatter3d": [
           {
            "line": {
             "colorbar": {
              "outlinewidth": 0,
              "ticks": ""
             }
            },
            "marker": {
             "colorbar": {
              "outlinewidth": 0,
              "ticks": ""
             }
            },
            "type": "scatter3d"
           }
          ],
          "scattercarpet": [
           {
            "marker": {
             "colorbar": {
              "outlinewidth": 0,
              "ticks": ""
             }
            },
            "type": "scattercarpet"
           }
          ],
          "scattergeo": [
           {
            "marker": {
             "colorbar": {
              "outlinewidth": 0,
              "ticks": ""
             }
            },
            "type": "scattergeo"
           }
          ],
          "scattergl": [
           {
            "marker": {
             "colorbar": {
              "outlinewidth": 0,
              "ticks": ""
             }
            },
            "type": "scattergl"
           }
          ],
          "scattermap": [
           {
            "marker": {
             "colorbar": {
              "outlinewidth": 0,
              "ticks": ""
             }
            },
            "type": "scattermap"
           }
          ],
          "scattermapbox": [
           {
            "marker": {
             "colorbar": {
              "outlinewidth": 0,
              "ticks": ""
             }
            },
            "type": "scattermapbox"
           }
          ],
          "scatterpolar": [
           {
            "marker": {
             "colorbar": {
              "outlinewidth": 0,
              "ticks": ""
             }
            },
            "type": "scatterpolar"
           }
          ],
          "scatterpolargl": [
           {
            "marker": {
             "colorbar": {
              "outlinewidth": 0,
              "ticks": ""
             }
            },
            "type": "scatterpolargl"
           }
          ],
          "scatterternary": [
           {
            "marker": {
             "colorbar": {
              "outlinewidth": 0,
              "ticks": ""
             }
            },
            "type": "scatterternary"
           }
          ],
          "surface": [
           {
            "colorbar": {
             "outlinewidth": 0,
             "ticks": ""
            },
            "colorscale": [
             [
              0,
              "#0d0887"
             ],
             [
              0.1111111111111111,
              "#46039f"
             ],
             [
              0.2222222222222222,
              "#7201a8"
             ],
             [
              0.3333333333333333,
              "#9c179e"
             ],
             [
              0.4444444444444444,
              "#bd3786"
             ],
             [
              0.5555555555555556,
              "#d8576b"
             ],
             [
              0.6666666666666666,
              "#ed7953"
             ],
             [
              0.7777777777777778,
              "#fb9f3a"
             ],
             [
              0.8888888888888888,
              "#fdca26"
             ],
             [
              1,
              "#f0f921"
             ]
            ],
            "type": "surface"
           }
          ],
          "table": [
           {
            "cells": {
             "fill": {
              "color": "#EBF0F8"
             },
             "line": {
              "color": "white"
             }
            },
            "header": {
             "fill": {
              "color": "#C8D4E3"
             },
             "line": {
              "color": "white"
             }
            },
            "type": "table"
           }
          ]
         },
         "layout": {
          "annotationdefaults": {
           "arrowcolor": "#2a3f5f",
           "arrowhead": 0,
           "arrowwidth": 1
          },
          "autotypenumbers": "strict",
          "coloraxis": {
           "colorbar": {
            "outlinewidth": 0,
            "ticks": ""
           }
          },
          "colorscale": {
           "diverging": [
            [
             0,
             "#8e0152"
            ],
            [
             0.1,
             "#c51b7d"
            ],
            [
             0.2,
             "#de77ae"
            ],
            [
             0.3,
             "#f1b6da"
            ],
            [
             0.4,
             "#fde0ef"
            ],
            [
             0.5,
             "#f7f7f7"
            ],
            [
             0.6,
             "#e6f5d0"
            ],
            [
             0.7,
             "#b8e186"
            ],
            [
             0.8,
             "#7fbc41"
            ],
            [
             0.9,
             "#4d9221"
            ],
            [
             1,
             "#276419"
            ]
           ],
           "sequential": [
            [
             0,
             "#0d0887"
            ],
            [
             0.1111111111111111,
             "#46039f"
            ],
            [
             0.2222222222222222,
             "#7201a8"
            ],
            [
             0.3333333333333333,
             "#9c179e"
            ],
            [
             0.4444444444444444,
             "#bd3786"
            ],
            [
             0.5555555555555556,
             "#d8576b"
            ],
            [
             0.6666666666666666,
             "#ed7953"
            ],
            [
             0.7777777777777778,
             "#fb9f3a"
            ],
            [
             0.8888888888888888,
             "#fdca26"
            ],
            [
             1,
             "#f0f921"
            ]
           ],
           "sequentialminus": [
            [
             0,
             "#0d0887"
            ],
            [
             0.1111111111111111,
             "#46039f"
            ],
            [
             0.2222222222222222,
             "#7201a8"
            ],
            [
             0.3333333333333333,
             "#9c179e"
            ],
            [
             0.4444444444444444,
             "#bd3786"
            ],
            [
             0.5555555555555556,
             "#d8576b"
            ],
            [
             0.6666666666666666,
             "#ed7953"
            ],
            [
             0.7777777777777778,
             "#fb9f3a"
            ],
            [
             0.8888888888888888,
             "#fdca26"
            ],
            [
             1,
             "#f0f921"
            ]
           ]
          },
          "colorway": [
           "#636efa",
           "#EF553B",
           "#00cc96",
           "#ab63fa",
           "#FFA15A",
           "#19d3f3",
           "#FF6692",
           "#B6E880",
           "#FF97FF",
           "#FECB52"
          ],
          "font": {
           "color": "#2a3f5f"
          },
          "geo": {
           "bgcolor": "white",
           "lakecolor": "white",
           "landcolor": "white",
           "showlakes": true,
           "showland": true,
           "subunitcolor": "#C8D4E3"
          },
          "hoverlabel": {
           "align": "left"
          },
          "hovermode": "closest",
          "mapbox": {
           "style": "light"
          },
          "paper_bgcolor": "white",
          "plot_bgcolor": "white",
          "polar": {
           "angularaxis": {
            "gridcolor": "#EBF0F8",
            "linecolor": "#EBF0F8",
            "ticks": ""
           },
           "bgcolor": "white",
           "radialaxis": {
            "gridcolor": "#EBF0F8",
            "linecolor": "#EBF0F8",
            "ticks": ""
           }
          },
          "scene": {
           "xaxis": {
            "backgroundcolor": "white",
            "gridcolor": "#DFE8F3",
            "gridwidth": 2,
            "linecolor": "#EBF0F8",
            "showbackground": true,
            "ticks": "",
            "zerolinecolor": "#EBF0F8"
           },
           "yaxis": {
            "backgroundcolor": "white",
            "gridcolor": "#DFE8F3",
            "gridwidth": 2,
            "linecolor": "#EBF0F8",
            "showbackground": true,
            "ticks": "",
            "zerolinecolor": "#EBF0F8"
           },
           "zaxis": {
            "backgroundcolor": "white",
            "gridcolor": "#DFE8F3",
            "gridwidth": 2,
            "linecolor": "#EBF0F8",
            "showbackground": true,
            "ticks": "",
            "zerolinecolor": "#EBF0F8"
           }
          },
          "shapedefaults": {
           "line": {
            "color": "#2a3f5f"
           }
          },
          "ternary": {
           "aaxis": {
            "gridcolor": "#DFE8F3",
            "linecolor": "#A2B1C6",
            "ticks": ""
           },
           "baxis": {
            "gridcolor": "#DFE8F3",
            "linecolor": "#A2B1C6",
            "ticks": ""
           },
           "bgcolor": "white",
           "caxis": {
            "gridcolor": "#DFE8F3",
            "linecolor": "#A2B1C6",
            "ticks": ""
           }
          },
          "title": {
           "x": 0.05
          },
          "xaxis": {
           "automargin": true,
           "gridcolor": "#EBF0F8",
           "linecolor": "#EBF0F8",
           "ticks": "",
           "title": {
            "standoff": 15
           },
           "zerolinecolor": "#EBF0F8",
           "zerolinewidth": 2
          },
          "yaxis": {
           "automargin": true,
           "gridcolor": "#EBF0F8",
           "linecolor": "#EBF0F8",
           "ticks": "",
           "title": {
            "standoff": 15
           },
           "zerolinecolor": "#EBF0F8",
           "zerolinewidth": 2
          }
         }
        },
        "title": {
         "text": "Proportion of Variance Explained per Moderator and Full Model"
        },
        "xaxis": {
         "anchor": "y",
         "domain": [
          0,
          1
         ],
         "range": [
          0,
          100
         ],
         "title": {
          "text": "Proportion of Variance Explained (%)"
         }
        },
        "yaxis": {
         "anchor": "x",
         "categoryarray": [
          "prob_0",
          "am_pathogenicity",
          "pLoF_indicator",
          "missense_indicator"
         ],
         "categoryorder": "array",
         "domain": [
          0,
          1
         ],
         "title": {
          "text": "Moderator"
         }
        }
       }
      }
     },
     "metadata": {},
     "output_type": "display_data"
    }
   ],
   "source": [
    "uv.plot_proportion_variance_explained(df_filtered, fitted_values_full, style=\"plotly\", gene_filter=[\"KCNK6\"])"
   ]
  },
  {
   "cell_type": "code",
   "execution_count": 112,
   "metadata": {},
   "outputs": [
    {
     "name": "stdout",
     "output_type": "stream",
     "text": [
      "Moderators identified: ['prob_0', 'am_pathogenicity', 'pLoF_indicator', 'missense_indicator']\n",
      "Unique genes found: ['KCNK6']\n",
      "Computing variance explained for moderator: prob_0\n",
      "Computing variance explained for moderator: am_pathogenicity\n",
      "Computing variance explained for moderator: pLoF_indicator\n",
      "Computing variance explained for moderator: missense_indicator\n",
      "Generating plot for gene: KCNK6\n",
      "    gene  Proportion_Variance_Explained  R_squared_reduced\n",
      "0  KCNK6                       0.554103           0.026067\n",
      "    gene  Proportion_Variance_Explained  R_squared_reduced\n",
      "0  KCNK6                       0.434468           0.020439\n",
      "    gene  Proportion_Variance_Explained  R_squared_reduced\n",
      "0  KCNK6                        0.09314           0.004382\n",
      "    gene  Proportion_Variance_Explained  R_squared_reduced\n",
      "0  KCNK6                       2.129127           0.100161\n",
      "Variance data for gene KCNK6: {'prob_0': np.float64(0.5541028160374821), 'am_pathogenicity': np.float64(0.43446793251763577), 'pLoF_indicator': np.float64(0.09314030043725424), 'missense_indicator': np.float64(2.1291271846702933)}\n"
     ]
    },
    {
     "data": {
      "application/vnd.plotly.v1+json": {
       "config": {
        "plotlyServerURL": "https://plot.ly"
       },
       "data": [
        {
         "hovertemplate": "Proportion of Variance Explained (%)=%{marker.color}<br>Moderator=%{y}<extra></extra>",
         "legendgroup": "",
         "marker": {
          "color": {
           "bdata": "3x+LG4S0S0D0MnKFMLlFQDiGv4vIoCJAFMtb/TSdakA=",
           "dtype": "f8"
          },
          "coloraxis": "coloraxis",
          "pattern": {
           "shape": ""
          }
         },
         "name": "",
         "orientation": "h",
         "showlegend": false,
         "text": {
          "bdata": "3x+LG4S0S0D0MnKFMLlFQDiGv4vIoCJAFMtb/TSdakA=",
          "dtype": "f8"
         },
         "textposition": "inside",
         "texttemplate": "%{text:.1f}%",
         "type": "bar",
         "x": {
          "bdata": "3x+LG4S0S0D0MnKFMLlFQDiGv4vIoCJAFMtb/TSdakA=",
          "dtype": "f8"
         },
         "xaxis": "x",
         "y": [
          "prob_0",
          "am_pathogenicity",
          "pLoF_indicator",
          "missense_indicator"
         ],
         "yaxis": "y"
        }
       ],
       "layout": {
        "barmode": "relative",
        "coloraxis": {
         "colorbar": {
          "title": {
           "text": "Proportion of Variance Explained (%)"
          }
         },
         "colorscale": [
          [
           0,
           "rgb(247,251,255)"
          ],
          [
           0.125,
           "rgb(222,235,247)"
          ],
          [
           0.25,
           "rgb(198,219,239)"
          ],
          [
           0.375,
           "rgb(158,202,225)"
          ],
          [
           0.5,
           "rgb(107,174,214)"
          ],
          [
           0.625,
           "rgb(66,146,198)"
          ],
          [
           0.75,
           "rgb(33,113,181)"
          ],
          [
           0.875,
           "rgb(8,81,156)"
          ],
          [
           1,
           "rgb(8,48,107)"
          ]
         ],
         "showscale": false
        },
        "legend": {
         "tracegroupgap": 0
        },
        "template": {
         "data": {
          "bar": [
           {
            "error_x": {
             "color": "#2a3f5f"
            },
            "error_y": {
             "color": "#2a3f5f"
            },
            "marker": {
             "line": {
              "color": "white",
              "width": 0.5
             },
             "pattern": {
              "fillmode": "overlay",
              "size": 10,
              "solidity": 0.2
             }
            },
            "type": "bar"
           }
          ],
          "barpolar": [
           {
            "marker": {
             "line": {
              "color": "white",
              "width": 0.5
             },
             "pattern": {
              "fillmode": "overlay",
              "size": 10,
              "solidity": 0.2
             }
            },
            "type": "barpolar"
           }
          ],
          "carpet": [
           {
            "aaxis": {
             "endlinecolor": "#2a3f5f",
             "gridcolor": "#C8D4E3",
             "linecolor": "#C8D4E3",
             "minorgridcolor": "#C8D4E3",
             "startlinecolor": "#2a3f5f"
            },
            "baxis": {
             "endlinecolor": "#2a3f5f",
             "gridcolor": "#C8D4E3",
             "linecolor": "#C8D4E3",
             "minorgridcolor": "#C8D4E3",
             "startlinecolor": "#2a3f5f"
            },
            "type": "carpet"
           }
          ],
          "choropleth": [
           {
            "colorbar": {
             "outlinewidth": 0,
             "ticks": ""
            },
            "type": "choropleth"
           }
          ],
          "contour": [
           {
            "colorbar": {
             "outlinewidth": 0,
             "ticks": ""
            },
            "colorscale": [
             [
              0,
              "#0d0887"
             ],
             [
              0.1111111111111111,
              "#46039f"
             ],
             [
              0.2222222222222222,
              "#7201a8"
             ],
             [
              0.3333333333333333,
              "#9c179e"
             ],
             [
              0.4444444444444444,
              "#bd3786"
             ],
             [
              0.5555555555555556,
              "#d8576b"
             ],
             [
              0.6666666666666666,
              "#ed7953"
             ],
             [
              0.7777777777777778,
              "#fb9f3a"
             ],
             [
              0.8888888888888888,
              "#fdca26"
             ],
             [
              1,
              "#f0f921"
             ]
            ],
            "type": "contour"
           }
          ],
          "contourcarpet": [
           {
            "colorbar": {
             "outlinewidth": 0,
             "ticks": ""
            },
            "type": "contourcarpet"
           }
          ],
          "heatmap": [
           {
            "colorbar": {
             "outlinewidth": 0,
             "ticks": ""
            },
            "colorscale": [
             [
              0,
              "#0d0887"
             ],
             [
              0.1111111111111111,
              "#46039f"
             ],
             [
              0.2222222222222222,
              "#7201a8"
             ],
             [
              0.3333333333333333,
              "#9c179e"
             ],
             [
              0.4444444444444444,
              "#bd3786"
             ],
             [
              0.5555555555555556,
              "#d8576b"
             ],
             [
              0.6666666666666666,
              "#ed7953"
             ],
             [
              0.7777777777777778,
              "#fb9f3a"
             ],
             [
              0.8888888888888888,
              "#fdca26"
             ],
             [
              1,
              "#f0f921"
             ]
            ],
            "type": "heatmap"
           }
          ],
          "histogram": [
           {
            "marker": {
             "pattern": {
              "fillmode": "overlay",
              "size": 10,
              "solidity": 0.2
             }
            },
            "type": "histogram"
           }
          ],
          "histogram2d": [
           {
            "colorbar": {
             "outlinewidth": 0,
             "ticks": ""
            },
            "colorscale": [
             [
              0,
              "#0d0887"
             ],
             [
              0.1111111111111111,
              "#46039f"
             ],
             [
              0.2222222222222222,
              "#7201a8"
             ],
             [
              0.3333333333333333,
              "#9c179e"
             ],
             [
              0.4444444444444444,
              "#bd3786"
             ],
             [
              0.5555555555555556,
              "#d8576b"
             ],
             [
              0.6666666666666666,
              "#ed7953"
             ],
             [
              0.7777777777777778,
              "#fb9f3a"
             ],
             [
              0.8888888888888888,
              "#fdca26"
             ],
             [
              1,
              "#f0f921"
             ]
            ],
            "type": "histogram2d"
           }
          ],
          "histogram2dcontour": [
           {
            "colorbar": {
             "outlinewidth": 0,
             "ticks": ""
            },
            "colorscale": [
             [
              0,
              "#0d0887"
             ],
             [
              0.1111111111111111,
              "#46039f"
             ],
             [
              0.2222222222222222,
              "#7201a8"
             ],
             [
              0.3333333333333333,
              "#9c179e"
             ],
             [
              0.4444444444444444,
              "#bd3786"
             ],
             [
              0.5555555555555556,
              "#d8576b"
             ],
             [
              0.6666666666666666,
              "#ed7953"
             ],
             [
              0.7777777777777778,
              "#fb9f3a"
             ],
             [
              0.8888888888888888,
              "#fdca26"
             ],
             [
              1,
              "#f0f921"
             ]
            ],
            "type": "histogram2dcontour"
           }
          ],
          "mesh3d": [
           {
            "colorbar": {
             "outlinewidth": 0,
             "ticks": ""
            },
            "type": "mesh3d"
           }
          ],
          "parcoords": [
           {
            "line": {
             "colorbar": {
              "outlinewidth": 0,
              "ticks": ""
             }
            },
            "type": "parcoords"
           }
          ],
          "pie": [
           {
            "automargin": true,
            "type": "pie"
           }
          ],
          "scatter": [
           {
            "fillpattern": {
             "fillmode": "overlay",
             "size": 10,
             "solidity": 0.2
            },
            "type": "scatter"
           }
          ],
          "scatter3d": [
           {
            "line": {
             "colorbar": {
              "outlinewidth": 0,
              "ticks": ""
             }
            },
            "marker": {
             "colorbar": {
              "outlinewidth": 0,
              "ticks": ""
             }
            },
            "type": "scatter3d"
           }
          ],
          "scattercarpet": [
           {
            "marker": {
             "colorbar": {
              "outlinewidth": 0,
              "ticks": ""
             }
            },
            "type": "scattercarpet"
           }
          ],
          "scattergeo": [
           {
            "marker": {
             "colorbar": {
              "outlinewidth": 0,
              "ticks": ""
             }
            },
            "type": "scattergeo"
           }
          ],
          "scattergl": [
           {
            "marker": {
             "colorbar": {
              "outlinewidth": 0,
              "ticks": ""
             }
            },
            "type": "scattergl"
           }
          ],
          "scattermap": [
           {
            "marker": {
             "colorbar": {
              "outlinewidth": 0,
              "ticks": ""
             }
            },
            "type": "scattermap"
           }
          ],
          "scattermapbox": [
           {
            "marker": {
             "colorbar": {
              "outlinewidth": 0,
              "ticks": ""
             }
            },
            "type": "scattermapbox"
           }
          ],
          "scatterpolar": [
           {
            "marker": {
             "colorbar": {
              "outlinewidth": 0,
              "ticks": ""
             }
            },
            "type": "scatterpolar"
           }
          ],
          "scatterpolargl": [
           {
            "marker": {
             "colorbar": {
              "outlinewidth": 0,
              "ticks": ""
             }
            },
            "type": "scatterpolargl"
           }
          ],
          "scatterternary": [
           {
            "marker": {
             "colorbar": {
              "outlinewidth": 0,
              "ticks": ""
             }
            },
            "type": "scatterternary"
           }
          ],
          "surface": [
           {
            "colorbar": {
             "outlinewidth": 0,
             "ticks": ""
            },
            "colorscale": [
             [
              0,
              "#0d0887"
             ],
             [
              0.1111111111111111,
              "#46039f"
             ],
             [
              0.2222222222222222,
              "#7201a8"
             ],
             [
              0.3333333333333333,
              "#9c179e"
             ],
             [
              0.4444444444444444,
              "#bd3786"
             ],
             [
              0.5555555555555556,
              "#d8576b"
             ],
             [
              0.6666666666666666,
              "#ed7953"
             ],
             [
              0.7777777777777778,
              "#fb9f3a"
             ],
             [
              0.8888888888888888,
              "#fdca26"
             ],
             [
              1,
              "#f0f921"
             ]
            ],
            "type": "surface"
           }
          ],
          "table": [
           {
            "cells": {
             "fill": {
              "color": "#EBF0F8"
             },
             "line": {
              "color": "white"
             }
            },
            "header": {
             "fill": {
              "color": "#C8D4E3"
             },
             "line": {
              "color": "white"
             }
            },
            "type": "table"
           }
          ]
         },
         "layout": {
          "annotationdefaults": {
           "arrowcolor": "#2a3f5f",
           "arrowhead": 0,
           "arrowwidth": 1
          },
          "autotypenumbers": "strict",
          "coloraxis": {
           "colorbar": {
            "outlinewidth": 0,
            "ticks": ""
           }
          },
          "colorscale": {
           "diverging": [
            [
             0,
             "#8e0152"
            ],
            [
             0.1,
             "#c51b7d"
            ],
            [
             0.2,
             "#de77ae"
            ],
            [
             0.3,
             "#f1b6da"
            ],
            [
             0.4,
             "#fde0ef"
            ],
            [
             0.5,
             "#f7f7f7"
            ],
            [
             0.6,
             "#e6f5d0"
            ],
            [
             0.7,
             "#b8e186"
            ],
            [
             0.8,
             "#7fbc41"
            ],
            [
             0.9,
             "#4d9221"
            ],
            [
             1,
             "#276419"
            ]
           ],
           "sequential": [
            [
             0,
             "#0d0887"
            ],
            [
             0.1111111111111111,
             "#46039f"
            ],
            [
             0.2222222222222222,
             "#7201a8"
            ],
            [
             0.3333333333333333,
             "#9c179e"
            ],
            [
             0.4444444444444444,
             "#bd3786"
            ],
            [
             0.5555555555555556,
             "#d8576b"
            ],
            [
             0.6666666666666666,
             "#ed7953"
            ],
            [
             0.7777777777777778,
             "#fb9f3a"
            ],
            [
             0.8888888888888888,
             "#fdca26"
            ],
            [
             1,
             "#f0f921"
            ]
           ],
           "sequentialminus": [
            [
             0,
             "#0d0887"
            ],
            [
             0.1111111111111111,
             "#46039f"
            ],
            [
             0.2222222222222222,
             "#7201a8"
            ],
            [
             0.3333333333333333,
             "#9c179e"
            ],
            [
             0.4444444444444444,
             "#bd3786"
            ],
            [
             0.5555555555555556,
             "#d8576b"
            ],
            [
             0.6666666666666666,
             "#ed7953"
            ],
            [
             0.7777777777777778,
             "#fb9f3a"
            ],
            [
             0.8888888888888888,
             "#fdca26"
            ],
            [
             1,
             "#f0f921"
            ]
           ]
          },
          "colorway": [
           "#636efa",
           "#EF553B",
           "#00cc96",
           "#ab63fa",
           "#FFA15A",
           "#19d3f3",
           "#FF6692",
           "#B6E880",
           "#FF97FF",
           "#FECB52"
          ],
          "font": {
           "color": "#2a3f5f"
          },
          "geo": {
           "bgcolor": "white",
           "lakecolor": "white",
           "landcolor": "white",
           "showlakes": true,
           "showland": true,
           "subunitcolor": "#C8D4E3"
          },
          "hoverlabel": {
           "align": "left"
          },
          "hovermode": "closest",
          "mapbox": {
           "style": "light"
          },
          "paper_bgcolor": "white",
          "plot_bgcolor": "white",
          "polar": {
           "angularaxis": {
            "gridcolor": "#EBF0F8",
            "linecolor": "#EBF0F8",
            "ticks": ""
           },
           "bgcolor": "white",
           "radialaxis": {
            "gridcolor": "#EBF0F8",
            "linecolor": "#EBF0F8",
            "ticks": ""
           }
          },
          "scene": {
           "xaxis": {
            "backgroundcolor": "white",
            "gridcolor": "#DFE8F3",
            "gridwidth": 2,
            "linecolor": "#EBF0F8",
            "showbackground": true,
            "ticks": "",
            "zerolinecolor": "#EBF0F8"
           },
           "yaxis": {
            "backgroundcolor": "white",
            "gridcolor": "#DFE8F3",
            "gridwidth": 2,
            "linecolor": "#EBF0F8",
            "showbackground": true,
            "ticks": "",
            "zerolinecolor": "#EBF0F8"
           },
           "zaxis": {
            "backgroundcolor": "white",
            "gridcolor": "#DFE8F3",
            "gridwidth": 2,
            "linecolor": "#EBF0F8",
            "showbackground": true,
            "ticks": "",
            "zerolinecolor": "#EBF0F8"
           }
          },
          "shapedefaults": {
           "line": {
            "color": "#2a3f5f"
           }
          },
          "ternary": {
           "aaxis": {
            "gridcolor": "#DFE8F3",
            "linecolor": "#A2B1C6",
            "ticks": ""
           },
           "baxis": {
            "gridcolor": "#DFE8F3",
            "linecolor": "#A2B1C6",
            "ticks": ""
           },
           "bgcolor": "white",
           "caxis": {
            "gridcolor": "#DFE8F3",
            "linecolor": "#A2B1C6",
            "ticks": ""
           }
          },
          "title": {
           "x": 0.05
          },
          "xaxis": {
           "automargin": true,
           "gridcolor": "#EBF0F8",
           "linecolor": "#EBF0F8",
           "ticks": "",
           "title": {
            "standoff": 15
           },
           "zerolinecolor": "#EBF0F8",
           "zerolinewidth": 2
          },
          "yaxis": {
           "automargin": true,
           "gridcolor": "#EBF0F8",
           "linecolor": "#EBF0F8",
           "ticks": "",
           "title": {
            "standoff": 15
           },
           "zerolinecolor": "#EBF0F8",
           "zerolinewidth": 2
          }
         }
        },
        "title": {
         "text": "Proportion of Variance Explained per Moderator and Full Model"
        },
        "xaxis": {
         "anchor": "y",
         "domain": [
          0,
          1
         ],
         "range": [
          0,
          100
         ],
         "title": {
          "text": "Proportion of Variance Explained (%)"
         }
        },
        "yaxis": {
         "anchor": "x",
         "categoryarray": [
          "prob_0",
          "am_pathogenicity",
          "pLoF_indicator",
          "missense_indicator"
         ],
         "categoryorder": "array",
         "domain": [
          0,
          1
         ],
         "title": {
          "text": "Moderator"
         }
        }
       }
      }
     },
     "metadata": {},
     "output_type": "display_data"
    }
   ],
   "source": [
    "uv.plot_proportion_variance_explained(df_filtered, fitted_values_full, style=\"plotly\", gene_filter=[\"KCNK6\"])"
   ]
  },
  {
   "cell_type": "code",
   "execution_count": 113,
   "metadata": {},
   "outputs": [
    {
     "name": "stdout",
     "output_type": "stream",
     "text": [
      "Moderators identified: ['prob_0', 'am_pathogenicity', 'pLoF_indicator', 'missense_indicator']\n",
      "Unique genes found: ['KCNK6']\n",
      "Processing full model R² for gene: KCNK6\n",
      "For gene KCNK6 : SSR Full= 449.5294078798596, SST= 471.72055515586567\n",
      "Computed Full Model R² values: {'KCNK6': np.float64(0.0470429940638768)}\n"
     ]
    },
    {
     "data": {
      "image/png": "[encoded data removed]",
      "text/plain": [
       "<Figure size 1000x600 with 1 Axes>"
      ]
     },
     "metadata": {},
     "output_type": "display_data"
    }
   ],
   "source": [
    "uv.plot_r2(df_filtered, fitted_values_full, style=\"matplotlib\", gene_filter=[\"KCNK6\"])"
   ]
  },
  {
   "cell_type": "code",
   "execution_count": 114,
   "metadata": {},
   "outputs": [
    {
     "name": "stdout",
     "output_type": "stream",
     "text": [
      "Moderators identified: ['prob_0', 'am_pathogenicity', 'pLoF_indicator', 'missense_indicator']\n",
      "Unique genes found: ['KCNK6']\n",
      "Processing full model R² for gene: KCNK6\n",
      "For gene KCNK6 : SSR Full= 449.5294078798596, SST= 471.72055515586567\n",
      "Computed Full Model R² values: {'KCNK6': np.float64(0.0470429940638768)}\n"
     ]
    },
    {
     "name": "stderr",
     "output_type": "stream",
     "text": [
      "/Users/salmazainana/umr-visualizer/umr_visualizer/plots.py:178: FutureWarning:\n",
      "\n",
      "\n",
      "\n",
      "Passing `palette` without assigning `hue` is deprecated and will be removed in v0.14.0. Assign the `x` variable to `hue` and set `legend=False` for the same effect.\n",
      "\n",
      "\n"
     ]
    },
    {
     "data": {
      "image/png": "[encoded data removed]",
      "text/plain": [
       "<Figure size 1000x600 with 1 Axes>"
      ]
     },
     "metadata": {},
     "output_type": "display_data"
    }
   ],
   "source": [
    "uv.plot_r2(df_filtered, fitted_values_full, style=\"seaborn\", gene_filter=[\"KCNK6\"])"
   ]
  },
  {
   "cell_type": "code",
   "execution_count": 115,
   "metadata": {},
   "outputs": [
    {
     "name": "stdout",
     "output_type": "stream",
     "text": [
      "Moderators identified: ['prob_0', 'am_pathogenicity', 'pLoF_indicator', 'missense_indicator']\n",
      "Unique genes found: ['KCNK6']\n",
      "Processing full model R² for gene: KCNK6\n",
      "For gene KCNK6 : SSR Full= 449.5294078798596, SST= 471.72055515586567\n",
      "Computed Full Model R² values: {'KCNK6': np.float64(0.0470429940638768)}\n"
     ]
    },
    {
     "data": {
      "application/vnd.plotly.v1+json": {
       "config": {
        "plotlyServerURL": "https://plot.ly"
       },
       "data": [
        {
         "hovertemplate": "R2 Values=%{marker.color}<br>Moderator=%{y}<extra></extra>",
         "legendgroup": "",
         "marker": {
          "color": {
           "bdata": "HbhOozexmj+1HJ4V4O2UP7RPGWtw8nE/XfUNox6kuT+AQgXyBBaoPw==",
           "dtype": "f8"
          },
          "coloraxis": "coloraxis",
          "pattern": {
           "shape": ""
          }
         },
         "name": "",
         "orientation": "h",
         "showlegend": false,
         "textposition": "auto",
         "type": "bar",
         "x": {
          "bdata": "HbhOozexmj+1HJ4V4O2UP7RPGWtw8nE/XfUNox6kuT+AQgXyBBaoPw==",
          "dtype": "f8"
         },
         "xaxis": "x",
         "y": [
          "prob_0",
          "am_pathogenicity",
          "pLoF_indicator",
          "missense_indicator",
          "Full Model"
         ],
         "yaxis": "y"
        }
       ],
       "layout": {
        "barmode": "relative",
        "coloraxis": {
         "colorbar": {
          "title": {
           "text": "R2 Values"
          }
         },
         "colorscale": [
          [
           0,
           "#0d0887"
          ],
          [
           0.1111111111111111,
           "#46039f"
          ],
          [
           0.2222222222222222,
           "#7201a8"
          ],
          [
           0.3333333333333333,
           "#9c179e"
          ],
          [
           0.4444444444444444,
           "#bd3786"
          ],
          [
           0.5555555555555556,
           "#d8576b"
          ],
          [
           0.6666666666666666,
           "#ed7953"
          ],
          [
           0.7777777777777778,
           "#fb9f3a"
          ],
          [
           0.8888888888888888,
           "#fdca26"
          ],
          [
           1,
           "#f0f921"
          ]
         ]
        },
        "legend": {
         "tracegroupgap": 0
        },
        "margin": {
         "t": 60
        },
        "template": {
         "data": {
          "bar": [
           {
            "error_x": {
             "color": "#2a3f5f"
            },
            "error_y": {
             "color": "#2a3f5f"
            },
            "marker": {
             "line": {
              "color": "#E5ECF6",
              "width": 0.5
             },
             "pattern": {
              "fillmode": "overlay",
              "size": 10,
              "solidity": 0.2
             }
            },
            "type": "bar"
           }
          ],
          "barpolar": [
           {
            "marker": {
             "line": {
              "color": "#E5ECF6",
              "width": 0.5
             },
             "pattern": {
              "fillmode": "overlay",
              "size": 10,
              "solidity": 0.2
             }
            },
            "type": "barpolar"
           }
          ],
          "carpet": [
           {
            "aaxis": {
             "endlinecolor": "#2a3f5f",
             "gridcolor": "white",
             "linecolor": "white",
             "minorgridcolor": "white",
             "startlinecolor": "#2a3f5f"
            },
            "baxis": {
             "endlinecolor": "#2a3f5f",
             "gridcolor": "white",
             "linecolor": "white",
             "minorgridcolor": "white",
             "startlinecolor": "#2a3f5f"
            },
            "type": "carpet"
           }
          ],
          "choropleth": [
           {
            "colorbar": {
             "outlinewidth": 0,
             "ticks": ""
            },
            "type": "choropleth"
           }
          ],
          "contour": [
           {
            "colorbar": {
             "outlinewidth": 0,
             "ticks": ""
            },
            "colorscale": [
             [
              0,
              "#0d0887"
             ],
             [
              0.1111111111111111,
              "#46039f"
             ],
             [
              0.2222222222222222,
              "#7201a8"
             ],
             [
              0.3333333333333333,
              "#9c179e"
             ],
             [
              0.4444444444444444,
              "#bd3786"
             ],
             [
              0.5555555555555556,
              "#d8576b"
             ],
             [
              0.6666666666666666,
              "#ed7953"
             ],
             [
              0.7777777777777778,
              "#fb9f3a"
             ],
             [
              0.8888888888888888,
              "#fdca26"
             ],
             [
              1,
              "#f0f921"
             ]
            ],
            "type": "contour"
           }
          ],
          "contourcarpet": [
           {
            "colorbar": {
             "outlinewidth": 0,
             "ticks": ""
            },
            "type": "contourcarpet"
           }
          ],
          "heatmap": [
           {
            "colorbar": {
             "outlinewidth": 0,
             "ticks": ""
            },
            "colorscale": [
             [
              0,
              "#0d0887"
             ],
             [
              0.1111111111111111,
              "#46039f"
             ],
             [
              0.2222222222222222,
              "#7201a8"
             ],
             [
              0.3333333333333333,
              "#9c179e"
             ],
             [
              0.4444444444444444,
              "#bd3786"
             ],
             [
              0.5555555555555556,
              "#d8576b"
             ],
             [
              0.6666666666666666,
              "#ed7953"
             ],
             [
              0.7777777777777778,
              "#fb9f3a"
             ],
             [
              0.8888888888888888,
              "#fdca26"
             ],
             [
              1,
              "#f0f921"
             ]
            ],
            "type": "heatmap"
           }
          ],
          "histogram": [
           {
            "marker": {
             "pattern": {
              "fillmode": "overlay",
              "size": 10,
              "solidity": 0.2
             }
            },
            "type": "histogram"
           }
          ],
          "histogram2d": [
           {
            "colorbar": {
             "outlinewidth": 0,
             "ticks": ""
            },
            "colorscale": [
             [
              0,
              "#0d0887"
             ],
             [
              0.1111111111111111,
              "#46039f"
             ],
             [
              0.2222222222222222,
              "#7201a8"
             ],
             [
              0.3333333333333333,
              "#9c179e"
             ],
             [
              0.4444444444444444,
              "#bd3786"
             ],
             [
              0.5555555555555556,
              "#d8576b"
             ],
             [
              0.6666666666666666,
              "#ed7953"
             ],
             [
              0.7777777777777778,
              "#fb9f3a"
             ],
             [
              0.8888888888888888,
              "#fdca26"
             ],
             [
              1,
              "#f0f921"
             ]
            ],
            "type": "histogram2d"
           }
          ],
          "histogram2dcontour": [
           {
            "colorbar": {
             "outlinewidth": 0,
             "ticks": ""
            },
            "colorscale": [
             [
              0,
              "#0d0887"
             ],
             [
              0.1111111111111111,
              "#46039f"
             ],
             [
              0.2222222222222222,
              "#7201a8"
             ],
             [
              0.3333333333333333,
              "#9c179e"
             ],
             [
              0.4444444444444444,
              "#bd3786"
             ],
             [
              0.5555555555555556,
              "#d8576b"
             ],
             [
              0.6666666666666666,
              "#ed7953"
             ],
             [
              0.7777777777777778,
              "#fb9f3a"
             ],
             [
              0.8888888888888888,
              "#fdca26"
             ],
             [
              1,
              "#f0f921"
             ]
            ],
            "type": "histogram2dcontour"
           }
          ],
          "mesh3d": [
           {
            "colorbar": {
             "outlinewidth": 0,
             "ticks": ""
            },
            "type": "mesh3d"
           }
          ],
          "parcoords": [
           {
            "line": {
             "colorbar": {
              "outlinewidth": 0,
              "ticks": ""
             }
            },
            "type": "parcoords"
           }
          ],
          "pie": [
           {
            "automargin": true,
            "type": "pie"
           }
          ],
          "scatter": [
           {
            "fillpattern": {
             "fillmode": "overlay",
             "size": 10,
             "solidity": 0.2
            },
            "type": "scatter"
           }
          ],
          "scatter3d": [
           {
            "line": {
             "colorbar": {
              "outlinewidth": 0,
              "ticks": ""
             }
            },
            "marker": {
             "colorbar": {
              "outlinewidth": 0,
              "ticks": ""
             }
            },
            "type": "scatter3d"
           }
          ],
          "scattercarpet": [
           {
            "marker": {
             "colorbar": {
              "outlinewidth": 0,
              "ticks": ""
             }
            },
            "type": "scattercarpet"
           }
          ],
          "scattergeo": [
           {
            "marker": {
             "colorbar": {
              "outlinewidth": 0,
              "ticks": ""
             }
            },
            "type": "scattergeo"
           }
          ],
          "scattergl": [
           {
            "marker": {
             "colorbar": {
              "outlinewidth": 0,
              "ticks": ""
             }
            },
            "type": "scattergl"
           }
          ],
          "scattermap": [
           {
            "marker": {
             "colorbar": {
              "outlinewidth": 0,
              "ticks": ""
             }
            },
            "type": "scattermap"
           }
          ],
          "scattermapbox": [
           {
            "marker": {
             "colorbar": {
              "outlinewidth": 0,
              "ticks": ""
             }
            },
            "type": "scattermapbox"
           }
          ],
          "scatterpolar": [
           {
            "marker": {
             "colorbar": {
              "outlinewidth": 0,
              "ticks": ""
             }
            },
            "type": "scatterpolar"
           }
          ],
          "scatterpolargl": [
           {
            "marker": {
             "colorbar": {
              "outlinewidth": 0,
              "ticks": ""
             }
            },
            "type": "scatterpolargl"
           }
          ],
          "scatterternary": [
           {
            "marker": {
             "colorbar": {
              "outlinewidth": 0,
              "ticks": ""
             }
            },
            "type": "scatterternary"
           }
          ],
          "surface": [
           {
            "colorbar": {
             "outlinewidth": 0,
             "ticks": ""
            },
            "colorscale": [
             [
              0,
              "#0d0887"
             ],
             [
              0.1111111111111111,
              "#46039f"
             ],
             [
              0.2222222222222222,
              "#7201a8"
             ],
             [
              0.3333333333333333,
              "#9c179e"
             ],
             [
              0.4444444444444444,
              "#bd3786"
             ],
             [
              0.5555555555555556,
              "#d8576b"
             ],
             [
              0.6666666666666666,
              "#ed7953"
             ],
             [
              0.7777777777777778,
              "#fb9f3a"
             ],
             [
              0.8888888888888888,
              "#fdca26"
             ],
             [
              1,
              "#f0f921"
             ]
            ],
            "type": "surface"
           }
          ],
          "table": [
           {
            "cells": {
             "fill": {
              "color": "#EBF0F8"
             },
             "line": {
              "color": "white"
             }
            },
            "header": {
             "fill": {
              "color": "#C8D4E3"
             },
             "line": {
              "color": "white"
             }
            },
            "type": "table"
           }
          ]
         },
         "layout": {
          "annotationdefaults": {
           "arrowcolor": "#2a3f5f",
           "arrowhead": 0,
           "arrowwidth": 1
          },
          "autotypenumbers": "strict",
          "coloraxis": {
           "colorbar": {
            "outlinewidth": 0,
            "ticks": ""
           }
          },
          "colorscale": {
           "diverging": [
            [
             0,
             "#8e0152"
            ],
            [
             0.1,
             "#c51b7d"
            ],
            [
             0.2,
             "#de77ae"
            ],
            [
             0.3,
             "#f1b6da"
            ],
            [
             0.4,
             "#fde0ef"
            ],
            [
             0.5,
             "#f7f7f7"
            ],
            [
             0.6,
             "#e6f5d0"
            ],
            [
             0.7,
             "#b8e186"
            ],
            [
             0.8,
             "#7fbc41"
            ],
            [
             0.9,
             "#4d9221"
            ],
            [
             1,
             "#276419"
            ]
           ],
           "sequential": [
            [
             0,
             "#0d0887"
            ],
            [
             0.1111111111111111,
             "#46039f"
            ],
            [
             0.2222222222222222,
             "#7201a8"
            ],
            [
             0.3333333333333333,
             "#9c179e"
            ],
            [
             0.4444444444444444,
             "#bd3786"
            ],
            [
             0.5555555555555556,
             "#d8576b"
            ],
            [
             0.6666666666666666,
             "#ed7953"
            ],
            [
             0.7777777777777778,
             "#fb9f3a"
            ],
            [
             0.8888888888888888,
             "#fdca26"
            ],
            [
             1,
             "#f0f921"
            ]
           ],
           "sequentialminus": [
            [
             0,
             "#0d0887"
            ],
            [
             0.1111111111111111,
             "#46039f"
            ],
            [
             0.2222222222222222,
             "#7201a8"
            ],
            [
             0.3333333333333333,
             "#9c179e"
            ],
            [
             0.4444444444444444,
             "#bd3786"
            ],
            [
             0.5555555555555556,
             "#d8576b"
            ],
            [
             0.6666666666666666,
             "#ed7953"
            ],
            [
             0.7777777777777778,
             "#fb9f3a"
            ],
            [
             0.8888888888888888,
             "#fdca26"
            ],
            [
             1,
             "#f0f921"
            ]
           ]
          },
          "colorway": [
           "#636efa",
           "#EF553B",
           "#00cc96",
           "#ab63fa",
           "#FFA15A",
           "#19d3f3",
           "#FF6692",
           "#B6E880",
           "#FF97FF",
           "#FECB52"
          ],
          "font": {
           "color": "#2a3f5f"
          },
          "geo": {
           "bgcolor": "white",
           "lakecolor": "white",
           "landcolor": "#E5ECF6",
           "showlakes": true,
           "showland": true,
           "subunitcolor": "white"
          },
          "hoverlabel": {
           "align": "left"
          },
          "hovermode": "closest",
          "mapbox": {
           "style": "light"
          },
          "paper_bgcolor": "white",
          "plot_bgcolor": "#E5ECF6",
          "polar": {
           "angularaxis": {
            "gridcolor": "white",
            "linecolor": "white",
            "ticks": ""
           },
           "bgcolor": "#E5ECF6",
           "radialaxis": {
            "gridcolor": "white",
            "linecolor": "white",
            "ticks": ""
           }
          },
          "scene": {
           "xaxis": {
            "backgroundcolor": "#E5ECF6",
            "gridcolor": "white",
            "gridwidth": 2,
            "linecolor": "white",
            "showbackground": true,
            "ticks": "",
            "zerolinecolor": "white"
           },
           "yaxis": {
            "backgroundcolor": "#E5ECF6",
            "gridcolor": "white",
            "gridwidth": 2,
            "linecolor": "white",
            "showbackground": true,
            "ticks": "",
            "zerolinecolor": "white"
           },
           "zaxis": {
            "backgroundcolor": "#E5ECF6",
            "gridcolor": "white",
            "gridwidth": 2,
            "linecolor": "white",
            "showbackground": true,
            "ticks": "",
            "zerolinecolor": "white"
           }
          },
          "shapedefaults": {
           "line": {
            "color": "#2a3f5f"
           }
          },
          "ternary": {
           "aaxis": {
            "gridcolor": "white",
            "linecolor": "white",
            "ticks": ""
           },
           "baxis": {
            "gridcolor": "white",
            "linecolor": "white",
            "ticks": ""
           },
           "bgcolor": "#E5ECF6",
           "caxis": {
            "gridcolor": "white",
            "linecolor": "white",
            "ticks": ""
           }
          },
          "title": {
           "x": 0.05
          },
          "xaxis": {
           "automargin": true,
           "gridcolor": "white",
           "linecolor": "white",
           "ticks": "",
           "title": {
            "standoff": 15
           },
           "zerolinecolor": "white",
           "zerolinewidth": 2
          },
          "yaxis": {
           "automargin": true,
           "gridcolor": "white",
           "linecolor": "white",
           "ticks": "",
           "title": {
            "standoff": 15
           },
           "zerolinecolor": "white",
           "zerolinewidth": 2
          }
         }
        },
        "title": {
         "text": "R^2 Values for Gene: KCNK6"
        },
        "xaxis": {
         "anchor": "y",
         "domain": [
          0,
          1
         ],
         "title": {
          "text": "R2 Values"
         }
        },
        "yaxis": {
         "anchor": "x",
         "domain": [
          0,
          1
         ],
         "title": {
          "text": "Moderator"
         }
        }
       }
      }
     },
     "metadata": {},
     "output_type": "display_data"
    }
   ],
   "source": [
    "uv.plot_r2(df_filtered, fitted_values_full, style=\"plotly\", gene_filter=[\"KCNK6\"])"
   ]
  },
  {
   "cell_type": "code",
   "execution_count": null,
   "metadata": {},
   "outputs": [],
   "source": []
  }
 ],
 "metadata": {
  "kernelspec": {
   "display_name": "umr-visualizer",
   "language": "python",
   "name": "python3"
  },
  "language_info": {
   "codemirror_mode": {
    "name": "ipython",
    "version": 3
   },
   "file_extension": ".py",
   "mimetype": "text/x-python",
   "name": "python",
   "nbconvert_exporter": "python",
   "pygments_lexer": "ipython3",
   "version": "3.10.16"
  }
 },
 "nbformat": 4,
 "nbformat_minor": 2
}
